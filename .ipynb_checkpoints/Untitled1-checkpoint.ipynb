{
 "cells": [
  {
   "cell_type": "markdown",
   "metadata": {},
   "source": [
    "# 列表的函数"
   ]
  },
  {
   "cell_type": "code",
   "execution_count": 17,
   "metadata": {
    "scrolled": true
   },
   "outputs": [
    {
     "name": "stdout",
     "output_type": "stream",
     "text": [
      "[0, 1, 2, 3, 4, 5, 6, 7]\n",
      "[0, 1, 2, 3, 4, 5, 6, 7, 100]\n",
      "[0, 1, 20, 2, 3, 4, 5, 6, 7, 100]\n",
      "100\n",
      "[0, 1, 20, 2, 3, 4, 5, 6, 7]\n",
      "79238088\n",
      "[0, 1, 2, 3, 4, 5, 6, 7]\n",
      "79238088\n",
      "[]\n",
      "79238088\n",
      "[1, 2, 3, 4]\n",
      "86617160\n",
      "[4, 3, 2, 1]\n",
      "86617160\n",
      "[4, 3, 2, 1, 5, 6, 7]\n",
      "[4, 3, 3, 2, 1, 5, 6, 7, 3]\n",
      "3\n",
      "[4, 3, 333, 2, 1, 5, 6, 7, 3]\n",
      "[4, 3, 333, 2, 1, 5, 6, 7, 3]\n"
     ]
    }
   ],
   "source": [
    "# append 列表末尾插入元素\n",
    "a = [i for i in range(0,8)]\n",
    "print(a)\n",
    "a.append(100)\n",
    "print(a)\n",
    "\n",
    "# insert 指定位置插入元素\n",
    "# insert(index,data),位置是index的前面\n",
    "a.insert(2,20)\n",
    "print(a)\n",
    "\n",
    "# 删除\n",
    "# del ,删除list中的最后一个元素\n",
    "# pop,从list中最后一个元素弹出来,\n",
    "# remove,在列表中删除指定值的元素,被删除的值必须在list中,否则报错\n",
    "# 可以先行判断值是否在list中\n",
    "# if x in list:\n",
    "#    list.remove(x)\n",
    "b = a.pop()\n",
    "print(b)\n",
    "print(a)\n",
    "print(id(a))\n",
    "a.remove(20)\n",
    "print(a)\n",
    "print(id(a))\n",
    "\n",
    "# clear 清空\n",
    "a.clear()\n",
    "print(a)\n",
    "print(id(a))\n",
    "\n",
    "# 如果不需要列表地址保持不变,则清空列表可以用以下操作\n",
    "# a = list()\n",
    "# a = []\n",
    "\n",
    "# reverse,翻转,原地翻转\n",
    "a = [1, 2, 3, 4]\n",
    "print(a)\n",
    "print(id(a))\n",
    "a.reverse()\n",
    "print(a)\n",
    "print(id(a))\n",
    "\n",
    "# extend,扩展列表,两个列表,把一个直接拼接到另一个上\n",
    "b = [5, 6, 7]\n",
    "a.extend(b)\n",
    "print(a)\n",
    "\n",
    "# count,查找列表中指定值或元素个数\n",
    "a.append(3)\n",
    "a.insert(2,3)\n",
    "print(a)\n",
    "\n",
    "num = a.count(3)\n",
    "print(num)\n",
    "\n",
    "# copy 拷贝,\n",
    "\n",
    "# 列表类型变量赋值实例额,传地址操作,理解内存存储\n",
    "b = a\n",
    "b[2] = 333\n",
    "print(a)\n",
    "print(b)\n",
    "\n",
    "# "
   ]
  }
 ],
 "metadata": {
  "kernelspec": {
   "display_name": "Python 3",
   "language": "python",
   "name": "python3"
  },
  "language_info": {
   "codemirror_mode": {
    "name": "ipython",
    "version": 3
   },
   "file_extension": ".py",
   "mimetype": "text/x-python",
   "name": "python",
   "nbconvert_exporter": "python",
   "pygments_lexer": "ipython3",
   "version": "3.7.0"
  }
 },
 "nbformat": 4,
 "nbformat_minor": 2
}
