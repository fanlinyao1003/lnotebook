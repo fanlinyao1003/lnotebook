{
 "cells": [
  {
   "cell_type": "markdown",
   "metadata": {},
   "source": [
    "# 字符串\n",
    "- 转义字符\n",
    "- 格式化\n",
    "- 内建函数\n",
    "    # 转义字符\n",
    "    用一个特殊的方法表示出一系列不方便表示的内容\n",
    "    借助反斜杠表示，反斜杠后面的字符已经进行了转义\n",
    "    字符串中，出现反斜杠，可能就转义了\n",
    "    不同的系统对换行操作有不同的表示\n",
    "        Windows：\\n\n",
    "        Linux：\\r\\n\n",
    "        "
   ]
  },
  {
   "cell_type": "code",
   "execution_count": 8,
   "metadata": {},
   "outputs": [
    {
     "name": "stdout",
     "output_type": "stream",
     "text": [
      "Let's go!\n",
      "let's go\n",
      "C:\\user\n",
      "i love \r\n",
      " feifei\n"
     ]
    }
   ],
   "source": [
    "#如果想表示出Let’s go \n",
    "#嵌套引号，双层引号\n",
    "#转义字符\n",
    "\n",
    "s = \"Let's go!\"  #引号嵌套\n",
    "\n",
    "d = 'let\\'s go'   #\\'=='\n",
    "\n",
    "f = 'C:\\\\user'   #\\\\==\\\n",
    "\n",
    "g = 'i love \\r\\n feifei'\n",
    "\n",
    "print(s)\n",
    "\n",
    "print(d)\n",
    "\n",
    "print(f)\n",
    "\n",
    "print(g)"
   ]
  },
  {
   "cell_type": "markdown",
   "metadata": {},
   "source": [
    "# 格式化\n",
    "- 把字符串按照一定的格式打印或者填充\n",
    "- 两种方法\n",
    "    利用百分号%\n",
    "        在字符串中利用%表示一个特殊的含义，表示对字符串进行格式化\n",
    "        %d： 此处放入整数\n",
    "        %s： 此处放入字符串\n",
    "    利用format函数\n",
    "        使用方法：以{}和:代替%号，后面用format带参数完成"
   ]
  },
  {
   "cell_type": "code",
   "execution_count": 20,
   "metadata": {},
   "outputs": [
    {
     "name": "stdout",
     "output_type": "stream",
     "text": [
      "xxx 你好，搞传销不？\n",
      "feifei nihao ,gaochuanxiaobu?\n",
      "feifei nihao ,gaochuanxiaobu\n",
      "feifei nihao!\n"
     ]
    }
   ],
   "source": [
    "s = 'xxx 你好，搞传销不？'#xxx需要格式化，表示不同的人名\n",
    "\n",
    "s1 = '%s nihao ,gaochuanxiaobu?'#此时的%s表示字符串格式化\n",
    "\n",
    "s2 = \"{} nihao!\".format(\"feifei\")\n",
    "\n",
    "print(s)\n",
    "\n",
    "print(s1 %\"feifei\")\n",
    "\n",
    "print(\"%s nihao ,gaochuanxiaobu\" %\"feifei\")\n",
    "\n",
    "print(s2)"
   ]
  },
  {
   "cell_type": "code",
   "execution_count": 22,
   "metadata": {},
   "outputs": [
    {
     "name": "stdout",
     "output_type": "stream",
     "text": [
      "I am %d years old\n",
      "I am 19 years old\n",
      "I am %s ,I am %d years old\n",
      "I am feifei ,I am 29 years old\n",
      "I am feifei ,I am 19 years old,I am feifei ,I am 19 years old\n"
     ]
    }
   ],
   "source": [
    "#格式化一个数字，\n",
    "s = \"I am %d years old\"\n",
    "\n",
    "print(s)\n",
    "print(s%19)\n",
    "\n",
    "#同时格式化一个数字和字符串\n",
    "s1 = \"I am %s ,I am %d years old\"#此时有多个格式化的内容，填空时必须填写多个\n",
    "s2 = \"I am {1} ,I am {0} years old,I am {1} ,I am {0} years old\".format(19,\"feifei\")\n",
    "print(s1)\n",
    "print(s1%(\"feifei\",29))#用括号把填充的内容扩起来\n",
    "print(s2)"
   ]
  },
  {
   "cell_type": "markdown",
   "metadata": {},
   "source": [
    "# None\n",
    "- 表示什么都没有\n",
    "- 如果函数值没有返回值，可以返回 None\n",
    "- 可以用来占位置\n",
    "- 用来解除变量的绑定"
   ]
  },
  {
   "cell_type": "markdown",
   "metadata": {},
   "source": [
    "# 表达式\n",
    "- 由一个或者几个数字或者变量和运算符组合成的一行代码\n",
    "- 通常会返回一个结果"
   ]
  },
  {
   "cell_type": "markdown",
   "metadata": {},
   "source": [
    "# 运算符\n",
    "- 由一个以上的值经过变化得到新值的过程叫运算\n",
    "- 用于运算的符号\n",
    "- 运算符分类\n",
    "    - 算数运算符\n",
    "    - 比较或者关系运算符\n",
    "    - 赋值运算符\n",
    "    - 位运算\n",
    "    - 成员运算\n",
    "    - 逻辑运算符\n",
    "    - 身份运算符"
   ]
  },
  {
   "cell_type": "markdown",
   "metadata": {},
   "source": [
    "## 算数运算符\n",
    "- 算数的符号\n",
    "- python没有自增和自减运算"
   ]
  },
  {
   "cell_type": "code",
   "execution_count": 30,
   "metadata": {},
   "outputs": [
    {
     "name": "stdout",
     "output_type": "stream",
     "text": [
      "10\n",
      "63\n",
      "2.25\n",
      "1\n",
      "2\n",
      "6561\n"
     ]
    }
   ],
   "source": [
    "#+ ，-号跟正常运算符一样\n",
    "print(9+4-3)\n",
    "#乘号：*\n",
    "print(9 * 7)\n",
    "#除号:/，在Python2.x和Python3.x中，除号结果可能不一致，\n",
    "print(9 / 4)\n",
    "\n",
    "\n",
    "# % 取余运算：只会得到余数\n",
    "print(9%4)\n",
    "\n",
    "# // 取商运算，地板除\n",
    "print(9//4)\n",
    "\n",
    "# ** 表示幂运算，指数运算\n",
    "print(9**4)\n",
    "\n"
   ]
  },
  {
   "cell_type": "markdown",
   "metadata": {},
   "source": [
    "## 比较运算符\n",
    "- 对两个变量或者值进行比较的运算符\n",
    "- 结果只是布尔值，"
   ]
  },
  {
   "cell_type": "code",
   "execution_count": 34,
   "metadata": {},
   "outputs": [
    {
     "name": "stdout",
     "output_type": "stream",
     "text": [
      "False\n",
      "True\n",
      "True\n"
     ]
    }
   ],
   "source": [
    "# ==，等号\n",
    "a = 2*7\n",
    "b = a == 90\n",
    "print(b)\n",
    "b = a == 14\n",
    "print(b)\n",
    "\n",
    "# != ,不等于\n",
    "print(9!=3)\n",
    "\n",
    "# > 大于 \n",
    "# < 小于\n",
    "# >= 大于等于\n",
    "# <= 小于等于"
   ]
  },
  {
   "cell_type": "markdown",
   "metadata": {},
   "source": [
    "## 赋值运算符\n",
    "=    +=    -=   *=   /=   //=  $=  **="
   ]
  },
  {
   "cell_type": "code",
   "execution_count": 35,
   "metadata": {},
   "outputs": [
    {
     "name": "stdout",
     "output_type": "stream",
     "text": [
      "3\n"
     ]
    }
   ],
   "source": [
    "# =,赋值\n",
    "a = 0\n",
    "b = a = 3\n",
    "\n",
    "# +=,缩写\n",
    "a = 0 \n",
    "a += 3 # a = a + 3,的缩写\n",
    "print(a)"
   ]
  },
  {
   "cell_type": "markdown",
   "metadata": {},
   "source": [
    "## 逻辑运算符\n",
    "- 对布尔值进行计算的符号\n",
    "- and  逻辑与\n",
    "- or  逻辑或\n",
    "- not 逻辑非\n",
    "- Python中逻辑运算中没有异或运算\n",
    "- 运算规则：\n",
    "    - and看做乘法，or看做加法，\n",
    "    - True看做1，False看做0 \n",
    "    - 逻辑运算就能转换成数字运算\n",
    "    - 最后即如果如果是0则为False，否则为True\n",
    "- 逻辑运算的短路问题\n",
    "    - 逻辑运算式，按照运算顺序计算，一旦能够确定整个式子的值，则不再运算，直接返回值"
   ]
  },
  {
   "cell_type": "code",
   "execution_count": 37,
   "metadata": {},
   "outputs": [
    {
     "name": "stdout",
     "output_type": "stream",
     "text": [
      "True\n",
      "True\n"
     ]
    }
   ],
   "source": [
    "# 逻辑运算符的案例\n",
    "a = True\n",
    "b = False\n",
    "c = True\n",
    "\n",
    "d = a and b or c #等价于d = 1*0+1=1\n",
    "print(d)\n",
    "\n",
    "d = a or b and a #等价于d = 1+0*1=1\n",
    "print(d)"
   ]
  },
  {
   "cell_type": "code",
   "execution_count": null,
   "metadata": {},
   "outputs": [],
   "source": [
    "# 短路实例\n",
    "\n",
    "a = True or xxxx #此时确定a值一定为True，则不再计算，直接返回True\n",
    "\n"
   ]
  },
  {
   "cell_type": "markdown",
   "metadata": {},
   "source": [
    "## 成员运算符\n",
    "- 用来检测某个变量是不是另一个变量的成员\n",
    "- in\n",
    "- not in"
   ]
  },
  {
   "cell_type": "code",
   "execution_count": 39,
   "metadata": {},
   "outputs": [
    {
     "name": "stdout",
     "output_type": "stream",
     "text": [
      "False\n",
      "False\n"
     ]
    }
   ],
   "source": [
    "# 案例\n",
    "\n",
    "l = [1,2,3,4,5,6]\n",
    "a = 7\n",
    "b = a in l\n",
    "print(b)\n",
    "a = 2\n",
    "b = a not in l \n",
    "print(b)"
   ]
  },
  {
   "cell_type": "markdown",
   "metadata": {},
   "source": [
    "## 身份运算符\n",
    "- 用来检测两个变量是不是同一个变量\n",
    "- is      #var1 is var2        两个变量是同一个变量\n",
    "- is not   #var1 is not var2     两个变量不是同一个变量"
   ]
  },
  {
   "cell_type": "code",
   "execution_count": 42,
   "metadata": {},
   "outputs": [
    {
     "name": "stdout",
     "output_type": "stream",
     "text": [
      "True\n",
      "False\n"
     ]
    }
   ],
   "source": [
    "a = 0\n",
    "b = 0\n",
    "print(a is b)\n",
    "\n",
    "a = \"feifei is a girl\"\n",
    "b = \"feifei is a girl\"\n",
    "print(a is b)"
   ]
  },
  {
   "cell_type": "markdown",
   "metadata": {},
   "source": [
    "## 运算符的优先级\n",
    "- 括号具有最高优先级-\n",
    "- 优先级表格\n",
    "    "
   ]
  },
  {
   "cell_type": "markdown",
   "metadata": {},
   "source": [
    "# 程序结构\n",
    "- 顺序\n",
    "- 循环\n",
    "- 分支"
   ]
  }
 ],
 "metadata": {
  "kernelspec": {
   "display_name": "Python 3",
   "language": "python",
   "name": "python3"
  },
  "language_info": {
   "codemirror_mode": {
    "name": "ipython",
    "version": 3
   },
   "file_extension": ".py",
   "mimetype": "text/x-python",
   "name": "python",
   "nbconvert_exporter": "python",
   "pygments_lexer": "ipython3",
   "version": "3.7.0"
  }
 },
 "nbformat": 4,
 "nbformat_minor": 2
}
