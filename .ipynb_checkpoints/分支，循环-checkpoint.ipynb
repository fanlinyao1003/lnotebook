{
 "cells": [
  {
   "cell_type": "markdown",
   "metadata": {},
   "source": [
    "# 三大数据结构\n",
    "- 顺序\n",
    "- 分支\n",
    "- 循环"
   ]
  },
  {
   "cell_type": "markdown",
   "metadata": {},
   "source": [
    "## 分支\n",
    "- 语法：\n",
    "    if 条件表达式：\n",
    "      语句1\n",
    "      语句2\n",
    "      语句3\n",
    "      ......\n",
    "- 条件表达式就是计算结果必须为布尔值的表达式\n",
    "- 表达式后面的冒号不能少\n",
    "- if后面的的语句，如果是if语句块，则必须统一缩进等级\n",
    "- 条件表达式结果为True执行if后面的缩进语句块\n"
   ]
  },
  {
   "cell_type": "code",
   "execution_count": 3,
   "metadata": {},
   "outputs": [
    {
     "name": "stdout",
     "output_type": "stream",
     "text": [
      "去叫家长\n",
      "不带你玩儿\n",
      "gun\n"
     ]
    }
   ],
   "source": [
    "# if语句实例\n",
    "# 如果age小于18岁，则打印“去叫家长”\n",
    "age = 17\n",
    "if age < 18:\n",
    "    print(\"去叫家长\")\n",
    "    print(\"不带你玩儿\")\n",
    "    print(\"gun\")"
   ]
  },
  {
   "cell_type": "code",
   "execution_count": 4,
   "metadata": {},
   "outputs": [
    {
     "name": "stdout",
     "output_type": "stream",
     "text": [
      "kai ke l\n"
     ]
    }
   ],
   "source": [
    "# if语句实例\n",
    "# 如果age小于18岁，则打印“去叫家长”\n",
    "age = 19\n",
    "if age < 18:       #语句为真则执行语句块，语句为假则不执行语句块，直接执行下一条代码\n",
    "    print(\"去叫家长\")\n",
    "    print(\"不带你玩儿\")\n",
    "    print(\"gun\")\n",
    "print(\"kai ke l\")"
   ]
  },
  {
   "cell_type": "markdown",
   "metadata": {},
   "source": [
    "### 双向分支\n",
    "- if...else...语句\n",
    "    \n",
    "    if 条件表达式：\n",
    "        语句1\n",
    "        语句2\n",
    "        ...\n",
    "    else：\n",
    "        语句1\n",
    "        语句2\n",
    "        ...\n",
    "- 双向分支有两个分支。当程序执行到if...else...语句的时候，一定会而且只能是执行if或else中的一个\n",
    "- 缩进问题，if和else一个层级，其余语句一个层级"
   ]
  },
  {
   "cell_type": "code",
   "execution_count": null,
   "metadata": {},
   "outputs": [],
   "source": [
    "# 成绩分类实例\n",
    "# score>=90:A \n",
    "# 90>score>=80:B\n",
    "# 80>score>=70:C \n",
    "# 70>score>=60:D \n",
    "# score<60:滚犊子\n",
    "score = input(\"输入成绩：\")\n",
    "score = int(score)\n",
    "if score>=90:\n",
    "    print(\"A\")\n",
    "if score>=80 and score<90:\n",
    "    print(\"B\")\n",
    "if score>=70 and score<80:\n",
    "    print(\"C\")\n",
    "if score>=60 and score<70:\n",
    "    print(\"D\")\n",
    "if score<60:\n",
    "    print(\"滚犊子\")"
   ]
  },
  {
   "cell_type": "markdown",
   "metadata": {},
   "source": [
    "## 多路分支\n",
    "- 很多分支的情况语法\n",
    "    if 条件表达式：\n",
    "        语句1\n",
    "        ...\n",
    "    elif 条件表达式：\n",
    "        语句1\n",
    "        ...\n",
    "    else:\n",
    "        语句1\n",
    "        ...\n",
    "- elif 可以有很多个\n",
    "- else 可以没有"
   ]
  },
  {
   "cell_type": "code",
   "execution_count": null,
   "metadata": {},
   "outputs": [],
   "source": [
    "# 成绩分类实例\n",
    "# score>=90:A \n",
    "# 90>score>=80:B\n",
    "# 80>score>=70:C \n",
    "# 70>score>=60:D \n",
    "# score<60:滚犊子\n",
    "score = input(\"输入成绩：\")\n",
    "score = int(score)#把输入的字符串转换成数字\n",
    "if score>=90:\n",
    "    print(\"A\")\n",
    "elif score>=80:\n",
    "    print(\"B\")\n",
    "elif score>=70:\n",
    "    print(\"C\")\n",
    "elif score>=60:\n",
    "    print(\"D\")\n",
    "else:\n",
    "    print(\"滚犊子\")"
   ]
  },
  {
   "cell_type": "markdown",
   "metadata": {},
   "source": [
    "## if语句其他用法\n",
    "- if语句可以嵌套使用，\n",
    "- Python语句里面没有switch-case语句"
   ]
  },
  {
   "cell_type": "markdown",
   "metadata": {},
   "source": [
    "# 循环语句\n",
    "- 重复执行某些固定动作或者处理基本固定的事物\n",
    "- 分类\n",
    "    - for循环\n",
    "    - while循环\n",
    "## for循环\n",
    "    - 语法：\n",
    "        for 变量 in 序列：\n",
    "            语句1\n",
    "            语句2\n",
    "            ..."
   ]
  },
  {
   "cell_type": "markdown",
   "metadata": {},
   "source": [
    "### 列表就是一列数值或者其他值，一般用中括号表示\n",
    "    例如：[\"zhangsan\",\"lisi\",\"wangwu\"]\n",
    "    [1,2,3,4,5]"
   ]
  },
  {
   "cell_type": "code",
   "execution_count": null,
   "metadata": {},
   "outputs": [],
   "source": [
    "#打印学生姓名\n",
    "for name in ['zhangsan','lisi','wangwu']\n",
    "    print(name)"
   ]
  },
  {
   "cell_type": "code",
   "execution_count": null,
   "metadata": {},
   "outputs": [],
   "source": [
    "#打印学生姓名\n",
    "#如果是wangwu，傻逼\n",
    "#若果不是，聪明\n",
    "for name in [\"zhangsan\",\"lisi\",\"wangwu\"]:\n",
    "    print(name)\n",
    "    if name == \"wangwu\":\n",
    "        print(\"{0}你是一个撒子\".format(name))\n",
    "    else:\n",
    "        print(\"聪明\")"
   ]
  },
  {
   "cell_type": "markdown",
   "metadata": {},
   "source": [
    "## range\n",
    "- 生成一个数字序列\n",
    "- 集体范围可设定"
   ]
  },
  {
   "cell_type": "code",
   "execution_count": null,
   "metadata": {},
   "outputs": [],
   "source": [
    "# range联系\n",
    "# 打印从1-10\n",
    "# 一般在Python中，如果表示的数字的范围的两个数，一般是包含左边的数，不包含右边的数\n",
    "# randint是个特例，左右都包含\n",
    "for i in range(1,10):\n",
    "    print(i)\n",
    "for i in range(1,11):\n",
    "    print(i)"
   ]
  },
  {
   "cell_type": "markdown",
   "metadata": {},
   "source": [
    "## for-else语句\n",
    "- 当for循环结束的时候，会执行else语句\n",
    "- else语句是可选的\n"
   ]
  },
  {
   "cell_type": "code",
   "execution_count": null,
   "metadata": {},
   "outputs": [],
   "source": [
    "# for-else语句\n",
    "# 打印列表中符同学\n",
    "# 如果没有在列表中，终止，打印逃课\n",
    "for name in [\"zhangsan\",\"lisi\",\"wangwu\"]:\n",
    "    print(name)\n",
    "    if name == \"lisi\":\n",
    "        print(\"{0}你是一个撒子\".format(name))\n",
    "    else:\n",
    "        print(\"聪明\")\n",
    "else:\n",
    "    print(\"逃课\")"
   ]
  },
  {
   "cell_type": "markdown",
   "metadata": {},
   "source": [
    "## 循环之break，continue，pass\n",
    "- break：无条件结束整个循环，简称循环猝死\n",
    "- continue：无条件结束本次循环，从新进行下一轮\n",
    "- pass：表示略过\n",
    "- \n"
   ]
  },
  {
   "cell_type": "code",
   "execution_count": null,
   "metadata": {},
   "outputs": [],
   "source": [
    "# 在1-10 的数字中，寻找数字8，一旦找到，打印出来，其余则什么都不做\n",
    "# for循环中的变量表示，一般用：i，k，m，n，或者indx，idx，item之类\n",
    "# 在Python中，如果循环变量名称不重要，可以用下划线代替\n",
    "for i in range(1,11):\n",
    "    if i==8:\n",
    "        print(\"wo zhao dao l\")\n",
    "        break\n",
    "    else:\n",
    "        print(i)\n",
    "    "
   ]
  },
  {
   "cell_type": "code",
   "execution_count": null,
   "metadata": {},
   "outputs": [],
   "source": [
    "# 在1-10 的数字中，寻找数字8，一旦找到，打印出来，其余则什么都不做\n",
    "# for循环中的变量表示，一般用：i，k，m，n，或者indx，idx，item之类\n",
    "# 在Python中，如果循环变量名称不重要，可以用下划线代替\n",
    "for i in range(1,11):\n",
    "    if i==8:\n",
    "        print(\"wo zhao dao l\")\n",
    "        break\n",
    "    else:\n",
    "        print(i)\n",
    "    "
   ]
  },
  {
   "cell_type": "code",
   "execution_count": null,
   "metadata": {},
   "outputs": [],
   "source": [
    "# 在1-10 的数字中，寻找数字偶数，找到偶数打印出来，\n",
    "# for循环中的变量表示，一般用：i，k，m，n，或者indx，idx，item之类\n",
    "# 在Python中，如果循环变量名称不重要，可以用下划线代替\n",
    "for i in range(1,11):\n",
    "    if i % 2 == 1:\n",
    "        continue\n",
    "    else:\n",
    "        print(\"{0}是偶数\".format(i))"
   ]
  },
  {
   "cell_type": "code",
   "execution_count": null,
   "metadata": {},
   "outputs": [],
   "source": [
    "# 在1-10 的数字中，寻找数字偶数，找到偶数打印出来，\n",
    "# for循环中的变量表示，一般用：i，k，m，n，或者indx，idx，item之类\n",
    "# 在Python中，如果循环变量名称不重要，可以用下划线代替\n",
    "for i in range(1,11):\n",
    "    if i % 2 == 0:\n",
    "\n",
    "        print(\"{0}是偶数\".format(i))"
   ]
  },
  {
   "cell_type": "code",
   "execution_count": null,
   "metadata": {},
   "outputs": [],
   "source": []
  }
 ],
 "metadata": {
  "kernelspec": {
   "display_name": "Python 3",
   "language": "python",
   "name": "python3"
  },
  "language_info": {
   "codemirror_mode": {
    "name": "ipython",
    "version": 3
   },
   "file_extension": ".py",
   "mimetype": "text/x-python",
   "name": "python",
   "nbconvert_exporter": "python",
   "pygments_lexer": "ipython3",
   "version": "3.7.0"
  }
 },
 "nbformat": 4,
 "nbformat_minor": 2
}
