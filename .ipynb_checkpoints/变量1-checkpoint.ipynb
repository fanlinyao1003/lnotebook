{
 "cells": [
  {
   "cell_type": "markdown",
   "metadata": {},
   "source": [
    "#代码的作用\n",
    "#1.给人看\n",
    "#2.给机器看\n",
    "#注释\n",
    "行注释：#开头，可单独行，可代码后\n",
    "快注释：三个单引号开始，三个单引号结束，中间注释"
   ]
  },
  {
   "cell_type": "code",
   "execution_count": 3,
   "metadata": {},
   "outputs": [
    {
     "name": "stdout",
     "output_type": "stream",
     "text": [
      "hello world\n"
     ]
    }
   ],
   "source": [
    "print(\"hello world\")#打印hello world\n",
    "\n",
    "\n"
   ]
  },
  {
   "cell_type": "markdown",
   "metadata": {},
   "source": [
    "# 变量\n",
    "程序=数据结构+算法\n",
    "变量就是可以重复使用的一个量或者代号\n",
    "变量的命名规则：\n",
    "    数字，大小写字母，下划线等\n",
    "    数字不可以打头\n",
    "    一般在Python中以下划线打头的内容具有特殊意义\n",
    "    大小写不一样，俗称大小写敏感\n",
    "    # 推荐使用具有固定意义的英文单词或缩写\n",
    "    # 驼峰命名法\n",
    "        名称以单词自动连接，且每个单词首字母大写\n",
    "            大驼峰，每个单词第一个字母均大写\n",
    "                Python中给类命名用此法\n",
    "                MyFirstLove，IntOne\n",
    "            小驼峰，类似大驼峰，但第一个字母小写\n",
    "                 Python中给普通变量或函数命名\n",
    "                 myFirstLove，intOne\n",
    "            posix写法\n",
    "                多个单词用下划线连接\n",
    "                单词全部小写\n",
    "                my_first_love,int_one\n",
    " #保留字和关键字：变量起名避开保留字和关键字\n",
    "  class，def，break，for"
   ]
  },
  {
   "cell_type": "code",
   "execution_count": 7,
   "metadata": {},
   "outputs": [
    {
     "name": "stdout",
     "output_type": "stream",
     "text": [
      "['False', 'None', 'True', 'and', 'as', 'assert', 'async', 'await', 'break', 'class', 'continue', 'def', 'del', 'elif', 'else', 'except', 'finally', 'for', 'from', 'global', 'if', 'import', 'in', 'is', 'lambda', 'nonlocal', 'not', 'or', 'pass', 'raise', 'return', 'try', 'while', 'with', 'yield']\n"
     ]
    }
   ],
   "source": [
    "#查看关键字的方法\n",
    "import keyword#引入关键字模块\n",
    "print(keyword.kwlist)#打印系统关键字"
   ]
  },
  {
   "cell_type": "code",
   "execution_count": null,
   "metadata": {},
   "outputs": [],
   "source": [
    "##  变量声明，赋值的三种方法\n",
    "- var_name = var_value\n",
    "- var1=var2=var3=var_value\n",
    "- vai1,var2,var3=v1,v2,v3"
   ]
  },
  {
   "cell_type": "markdown",
   "metadata": {},
   "source": [
    "#第一种，定义变量age，把18赋值到变量age中\n",
    "age=18\n",
    "print(age)#打印变量age的值\n",
    "\n",
    "#第二种，把变量age1，age2，age3赋予同一内容或值\n",
    "age1=age2=age3=19\n",
    "print(age1)\n",
    "print(age2)\n",
    "print(age3)\n",
    "\n",
    "#第三种，一行内给多个变量赋值\n",
    "age1,age2,age3=12,13,14\n",
    "print(age1,age2,age3)"
   ]
  },
  {
   "cell_type": "markdown",
   "metadata": {},
   "source": [
    "# 变量的类型\n",
    "- 严格意义上说，Python只有一个变量类型\n",
    "- 标准数据类型一共6种\n",
    "    - 数字类型number\n",
    "    - 字符串类型str\n",
    "    - 列表list\n",
    "    - 元组tuple\n",
    "    - 字典dictionary\n",
    "    - 集合set"
   ]
  },
  {
   "cell_type": "markdown",
   "metadata": {},
   "source": [
    "# number数字类型\n",
    "- 数字类型没有大小限制\n",
    "1.整数：\n",
    "    没有小数，表示个数的数字\n",
    "    自然数，0，负自然数\n",
    "    整数分进制\n",
    "        二进制\n",
    "            机器常用\n",
    "            是计算机唯一能理解的数字\n",
    "            表示为0b开头的0，1代码\n",
    "            例如0b010100，\n",
    "        八进制\n",
    "            不常用\n",
    "            以0o头的包含0-7的数字\n",
    "        十进制\n",
    "            19,23,31231\n",
    "        十六进制\n",
    "            每四位二进制表示一位十六进制数\n",
    "            包含0-9，a-f\n",
    "            数字上0x开头表示\n",
    "        \n",
    "        \n",
    "        "
   ]
  },
  {
   "cell_type": "code",
   "execution_count": 14,
   "metadata": {},
   "outputs": [
    {
     "name": "stdout",
     "output_type": "stream",
     "text": [
      "18\n",
      "18\n",
      "66\n",
      "255\n"
     ]
    }
   ],
   "source": [
    "age=18\n",
    "print(age)\n",
    "\n",
    "age=0b10010\n",
    "print(age)\n",
    "\n",
    "age=0o102\n",
    "print(age)\n",
    "\n",
    "age=0xff #十六进制ff表示二进制的1111 1111\n",
    "print(age)"
   ]
  },
  {
   "cell_type": "markdown",
   "metadata": {},
   "source": [
    "# 浮点数\n",
    "- 小数\n",
    "- 2.3，23.231321\n",
    "- 计算机里边表示浮点数可以有条件省略\n",
    "- 3.1415\n",
    "- 3.\n",
    "- 0.5\n",
    "- .5\n",
    "# 科学技术法\n",
    "- 同数学定义\n",
    "- 用e/E后面跟整数表示10的指数\n",
    "    - 819.98==8.1998e2\n",
    "    - 0.23==2.3e-1"
   ]
  },
  {
   "cell_type": "code",
   "execution_count": 17,
   "metadata": {},
   "outputs": [
    {
     "name": "stdout",
     "output_type": "stream",
     "text": [
      "120.32\n",
      "0.5\n",
      "0.4\n"
     ]
    }
   ],
   "source": [
    "height=120.32\n",
    "print(height)\n",
    "\n",
    "shili=0.5\n",
    "print(shili)\n",
    "\n",
    "shili=.4  #有条件省略\n",
    "print(shili)"
   ]
  },
  {
   "cell_type": "markdown",
   "metadata": {},
   "source": [
    "# 复数complex\n",
    "- 同数学定义\n",
    "- 有实部和虚部组成\n",
    "- 虚部用j/J表示\n",
    "- 5+3j\n",
    "- 3j\n",
    "- （3j）"
   ]
  },
  {
   "cell_type": "markdown",
   "metadata": {},
   "source": [
    "# 布尔值\n",
    "表示真假\n",
    "只有两个值，True，False\n",
    "布尔值可以跟数值直接操作"
   ]
  },
  {
   "cell_type": "code",
   "execution_count": 21,
   "metadata": {},
   "outputs": [
    {
     "name": "stdout",
     "output_type": "stream",
     "text": [
      "17\n",
      "18\n",
      "19\n"
     ]
    }
   ],
   "source": [
    "#布尔值的操作\n",
    "age = 18 - True\n",
    "print(age)\n",
    "age = 18 + False\n",
    "print(age)\n",
    "age = 18 + True\n",
    "print(age)"
   ]
  },
  {
   "cell_type": "markdown",
   "metadata": {},
   "source": [
    "# 字符串\n",
    "- 用来表示一串文字信息\n",
    "- 如何表示\n",
    "    - 单引号,只能表示一行\n",
    "    - 双引号，只能表示一行\n",
    "    - 三引号（三个单引号或三个双引号），能表示多行\n",
    "    - 以上三种表示意义相同\n",
    "- 单双引号可以交错使用"
   ]
  },
  {
   "cell_type": "code",
   "execution_count": 26,
   "metadata": {},
   "outputs": [
    {
     "name": "stdout",
     "output_type": "stream",
     "text": [
      "我爱飞飞\n",
      "我爱飞飞\n",
      "I love \"feifei\" forever\n",
      "wo ai feifei \n",
      "love feifei\n",
      "\n",
      "ai feifei\n",
      "\n"
     ]
    }
   ],
   "source": [
    "love='我爱飞飞'\n",
    "print(love)\n",
    "\n",
    "love=\"我爱飞飞\"\n",
    "print(love)\n",
    "\n",
    "#单双引号交错使用的例子\n",
    "love='I love \"feifei\" forever'\n",
    "print(love)\n",
    "\n",
    "love='''wo ai feifei \n",
    "love feifei\n",
    "\n",
    "ai feifei\n",
    "'''\n",
    "print(love)"
   ]
  }
 ],
 "metadata": {
  "kernelspec": {
   "display_name": "Python 3",
   "language": "python",
   "name": "python3"
  },
  "language_info": {
   "codemirror_mode": {
    "name": "ipython",
    "version": 3
   },
   "file_extension": ".py",
   "mimetype": "text/x-python",
   "name": "python",
   "nbconvert_exporter": "python",
   "pygments_lexer": "ipython3",
   "version": "3.7.0"
  }
 },
 "nbformat": 4,
 "nbformat_minor": 2
}
