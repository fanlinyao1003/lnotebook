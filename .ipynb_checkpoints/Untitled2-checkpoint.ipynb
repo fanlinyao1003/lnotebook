{
 "cells": [
  {
   "cell_type": "markdown",
   "metadata": {},
   "source": [
    "#  关于元组的函数\n"
   ]
  },
  {
   "cell_type": "code",
   "execution_count": 5,
   "metadata": {},
   "outputs": [
    {
     "data": {
      "text/plain": [
       "5"
      ]
     },
     "execution_count": 5,
     "metadata": {},
     "output_type": "execute_result"
    }
   ],
   "source": [
    "# len ,获取元组的长度\n",
    "t = (1,2,3,4,4)\n",
    "len(t)"
   ]
  },
  {
   "cell_type": "code",
   "execution_count": 6,
   "metadata": {},
   "outputs": [
    {
     "name": "stdout",
     "output_type": "stream",
     "text": [
      "4\n",
      "1\n"
     ]
    }
   ],
   "source": [
    "# max,min,获取最大/最小值\n",
    "print(max(t))\n",
    "print(min(t))"
   ]
  },
  {
   "cell_type": "code",
   "execution_count": 9,
   "metadata": {},
   "outputs": [
    {
     "name": "stdout",
     "output_type": "stream",
     "text": [
      "(1, 2, 3, 4, 5)\n",
      "<class 'tuple'>\n",
      "<class 'tuple'>\n"
     ]
    }
   ],
   "source": [
    "# tuple,转化或创建元组\n",
    "l = [1,2,3,4,5]\n",
    "t = tuple(l)\n",
    "print(t)\n",
    "print(type(t))\n",
    "\n",
    "t = tuple()\n",
    "print(type(t))"
   ]
  },
  {
   "cell_type": "markdown",
   "metadata": {},
   "source": [
    "# 元组的函数\n",
    "    基本跟列表通用"
   ]
  },
  {
   "cell_type": "code",
   "execution_count": 11,
   "metadata": {},
   "outputs": [
    {
     "name": "stdout",
     "output_type": "stream",
     "text": [
      "3\n"
     ]
    }
   ],
   "source": [
    "# count,计算指定数据出现的次数\n",
    "t = (1,2,3,4,4,4,5,6,)\n",
    "print(t.count(4))"
   ]
  },
  {
   "cell_type": "code",
   "execution_count": 12,
   "metadata": {},
   "outputs": [
    {
     "name": "stdout",
     "output_type": "stream",
     "text": [
      "6\n"
     ]
    }
   ],
   "source": [
    "# index,求指定元素在元组中的索引位置,如果数据有多个,则返回第一个\n",
    "print(t.index(5))"
   ]
  },
  {
   "cell_type": "code",
   "execution_count": 16,
   "metadata": {},
   "outputs": [
    {
     "name": "stdout",
     "output_type": "stream",
     "text": [
      "1\n",
      "3\n",
      "----------\n",
      "3\n",
      "1\n",
      "----------\n",
      "1\n",
      "3\n",
      "----------\n"
     ]
    }
   ],
   "source": [
    "# 元组变量交换法\n",
    "# 两个变量交换值\n",
    "a = 1\n",
    "b = 3\n",
    "print(a)\n",
    "print(b)\n",
    "print(\"-\"*10)\n",
    "a,b = b,a\n",
    "print(a)\n",
    "print(b)\n",
    "print(\"-\"*10)\n",
    "# java的区别\n",
    "c = a\n",
    "a = b\n",
    "b = c\n",
    "print(a)\n",
    "print(b)\n",
    "print(\"-\"*10)"
   ]
  },
  {
   "cell_type": "markdown",
   "metadata": {},
   "source": [
    "# 集合,set\n",
    "    无序的,唯一的,确定的数据,"
   ]
  },
  {
   "cell_type": "code",
   "execution_count": 22,
   "metadata": {},
   "outputs": [
    {
     "name": "stdout",
     "output_type": "stream",
     "text": [
      "<class 'set'>\n",
      "set()\n",
      "{1, 2, 3, 4, 5}\n",
      "<class 'set'>\n",
      "{}\n",
      "<class 'dict'>\n"
     ]
    }
   ],
   "source": [
    "# 集合的创建\n",
    "s = set()\n",
    "print(type(s))\n",
    "print(s)\n",
    "\n",
    "# 大括号里面一定有值,否则创建出的是一个字典类型\n",
    "s = {1,2,3,4,5}\n",
    "print(s)\n",
    "print(type(s))\n",
    "s = {}\n",
    "print(s)\n",
    "print(type(s))"
   ]
  },
  {
   "cell_type": "markdown",
   "metadata": {},
   "source": [
    "# 集合的特性\n",
    "    集合内的数据无序,无法索引和分片\n",
    "    集合内的数据具有唯一性,可以自动排除重复数据\n",
    "    集合内部的数据可以是,int ,str ,float,tuple,冰冻集合等,内部只能放置可哈希的数据\n",
    "    "
   ]
  },
  {
   "cell_type": "code",
   "execution_count": 26,
   "metadata": {},
   "outputs": [
    {
     "name": "stdout",
     "output_type": "stream",
     "text": [
      "{3, 4, 'feifie', 'fly'}\n",
      "fei\n",
      "bye\n"
     ]
    }
   ],
   "source": [
    "# 集合操作\n",
    "\n",
    "# 成员检测\n",
    "# in,,not in\n",
    "a = {3, 4, \"feifie\", \"fly\"}\n",
    "print(a)\n",
    "\n",
    "if \"feifie\" in a:\n",
    "    print(\"fei\")\n",
    "if \"ff\" not in a:\n",
    "    print(\"bye\")"
   ]
  },
  {
   "cell_type": "code",
   "execution_count": 28,
   "metadata": {},
   "outputs": [
    {
     "name": "stdout",
     "output_type": "stream",
     "text": [
      "3 4 feifie fly "
     ]
    }
   ],
   "source": [
    "# 集合的遍历操作\n",
    "for i in a:\n",
    "    print(i,end=\" \")"
   ]
  },
  {
   "cell_type": "code",
   "execution_count": 31,
   "metadata": {},
   "outputs": [
    {
     "name": "stdout",
     "output_type": "stream",
     "text": [
      "i l f\n",
      "1 2 3\n",
      "('i', 'l', 'f')\n",
      "(1, 2, 3)\n"
     ]
    }
   ],
   "source": [
    "# 带有元组的集合遍历\n",
    "s = {(1,2,3), (\"i\",\"l\",\"f\")}\n",
    "for k,m,n in s:\n",
    "    print(k,m,n)\n",
    "\n",
    "for m in s:\n",
    "    print(m)"
   ]
  },
  {
   "cell_type": "code",
   "execution_count": 36,
   "metadata": {},
   "outputs": [
    {
     "name": "stdout",
     "output_type": "stream",
     "text": [
      "{33, 43, 432, 53, 23, 452123, 123}\n",
      "{33, 43, 123, 432, 53, 23, 452123}\n",
      "{432}\n",
      "{'feifeifeifei', 'lovelovelove', 'feifei', 'love', 'feifeifeifeifeifeifeifei', 'iii', 'lovelovelovelove', 'iiii', 'lovelove', 'feifeifeifeifeifei', 'i', 'ii'}\n"
     ]
    }
   ],
   "source": [
    "#  集合的内涵\n",
    "\n",
    "# 普通集合的内涵\n",
    "s = {23,43,53,123,432,432,452123,432,33} # 自动排除重复的元素\n",
    "print(s)\n",
    "\n",
    "# 创建集合\n",
    "ss = {i for i in s}\n",
    "print(ss)\n",
    "\n",
    "# 带条件创建集合\n",
    "sss = {i for i in s if i % 2 == 0}\n",
    "print(sss)\n",
    "\n",
    "# 多循环的集合内涵\n",
    "s1 = {1,2,3,4,}\n",
    "s2 = {\"i\", \"love\",\"feifei\"}\n",
    "\n",
    "s = {m*n for m in s1 for n in s2}\n",
    "print(s)"
   ]
  },
  {
   "cell_type": "markdown",
   "metadata": {},
   "source": [
    "# 集合的函数,关于集合的函数"
   ]
  },
  {
   "cell_type": "code",
   "execution_count": null,
   "metadata": {},
   "outputs": [],
   "source": [
    "# len,max,min,同列表一致"
   ]
  },
  {
   "cell_type": "code",
   "execution_count": 37,
   "metadata": {},
   "outputs": [
    {
     "name": "stdout",
     "output_type": "stream",
     "text": [
      "{1, 2, 3, 4, 5}\n"
     ]
    }
   ],
   "source": [
    "# set:生成集合\n",
    "l = [1,2,3,4,1,2,3,4,5]\n",
    "s = set(l)\n",
    "print(s)"
   ]
  },
  {
   "cell_type": "code",
   "execution_count": 38,
   "metadata": {},
   "outputs": [
    {
     "name": "stdout",
     "output_type": "stream",
     "text": [
      "{1, 2, 3, 4, 5, 99}\n"
     ]
    }
   ],
   "source": [
    "# add:向集合内添加元素\n",
    "s.add(99)\n",
    "print(s)"
   ]
  },
  {
   "cell_type": "code",
   "execution_count": 40,
   "metadata": {},
   "outputs": [
    {
     "name": "stdout",
     "output_type": "stream",
     "text": [
      "85344776\n",
      "85344776\n"
     ]
    }
   ],
   "source": [
    "# clear 清空集合\n",
    "print(id(s))\n",
    "s.clear()\n",
    "print(id(s))\n",
    "# 原地清空数据\n"
   ]
  },
  {
   "cell_type": "code",
   "execution_count": 45,
   "metadata": {},
   "outputs": [
    {
     "name": "stdout",
     "output_type": "stream",
     "text": [
      "{2, 3, 4, 5}\n",
      "{3, 4, 5}\n",
      "********************\n",
      "{3, 4, 5}\n"
     ]
    },
    {
     "ename": "KeyError",
     "evalue": "9",
     "output_type": "error",
     "traceback": [
      "\u001b[1;31m---------------------------------------------------------------------------\u001b[0m",
      "\u001b[1;31mKeyError\u001b[0m                                  Traceback (most recent call last)",
      "\u001b[1;32m<ipython-input-45-215d644e1400>\u001b[0m in \u001b[0;36m<module>\u001b[1;34m()\u001b[0m\n\u001b[0;32m     12\u001b[0m \u001b[0ms\u001b[0m\u001b[1;33m.\u001b[0m\u001b[0mdiscard\u001b[0m\u001b[1;33m(\u001b[0m\u001b[1;36m10\u001b[0m\u001b[1;33m)\u001b[0m\u001b[1;33m\u001b[0m\u001b[0m\n\u001b[0;32m     13\u001b[0m \u001b[0mprint\u001b[0m\u001b[1;33m(\u001b[0m\u001b[0ms\u001b[0m\u001b[1;33m)\u001b[0m\u001b[1;33m\u001b[0m\u001b[0m\n\u001b[1;32m---> 14\u001b[1;33m \u001b[0ms\u001b[0m\u001b[1;33m.\u001b[0m\u001b[0mremove\u001b[0m\u001b[1;33m(\u001b[0m\u001b[1;36m9\u001b[0m\u001b[1;33m)\u001b[0m\u001b[1;33m\u001b[0m\u001b[0m\n\u001b[0m",
      "\u001b[1;31mKeyError\u001b[0m: 9"
     ]
    }
   ],
   "source": [
    "# copy 拷贝\n",
    "# remove 移除指定的值,值不存在,报错\n",
    "# discard,移除集合中指定的值,值不存在,不报错\n",
    "s = {1,2,3,4,5}\n",
    "s.remove(1)\n",
    "print(s)\n",
    "s.discard(2)\n",
    "print(s)\n",
    "print(\"*\"*20)\n",
    "\n",
    "\n",
    "s.discard(10)\n",
    "print(s)\n",
    "s.remove(9)"
   ]
  },
  {
   "cell_type": "code",
   "execution_count": 46,
   "metadata": {},
   "outputs": [
    {
     "name": "stdout",
     "output_type": "stream",
     "text": [
      "2\n",
      "{3, 13, 432, 534}\n"
     ]
    }
   ],
   "source": [
    "# pop 移除一个元素\n",
    "s = {2,13,432,534,3}\n",
    "d = s.pop()\n",
    "print(d)\n",
    "print(s)"
   ]
  },
  {
   "cell_type": "code",
   "execution_count": 49,
   "metadata": {},
   "outputs": [
    {
     "name": "stdout",
     "output_type": "stream",
     "text": [
      "{3, 4}\n",
      "{1, 2}\n",
      "{1, 2, 3, 4, 5, 6, 7}\n"
     ]
    }
   ],
   "source": [
    "# 集合的运算,交,差,并,补\n",
    "\n",
    "# intersection 交集\n",
    "# difference 差集\n",
    "# union 并集\n",
    "# issubset 检查一个集合是否是另一个集合的子集\n",
    "# issuperset 检查一个集合是否是另一个几个的超集\n",
    "\n",
    "s1 = {1,2,3,4}\n",
    "s2 = {3,4,5,6,7}\n",
    "\n",
    "s3 = s1.intersection(s2)\n",
    "print(s_1)\n",
    "\n",
    "s4 = s1.difference(s2)\n",
    "print(s4)\n",
    "\n",
    "s5 = s1.union(s2)\n",
    "print(s5)"
   ]
  },
  {
   "cell_type": "code",
   "execution_count": 51,
   "metadata": {},
   "outputs": [
    {
     "name": "stdout",
     "output_type": "stream",
     "text": [
      "{1, 2}\n"
     ]
    },
    {
     "ename": "TypeError",
     "evalue": "unsupported operand type(s) for +: 'set' and 'set'",
     "output_type": "error",
     "traceback": [
      "\u001b[1;31m---------------------------------------------------------------------------\u001b[0m",
      "\u001b[1;31mTypeError\u001b[0m                                 Traceback (most recent call last)",
      "\u001b[1;32m<ipython-input-51-a24838153c8a>\u001b[0m in \u001b[0;36m<module>\u001b[1;34m()\u001b[0m\n\u001b[0;32m      4\u001b[0m \u001b[1;33m\u001b[0m\u001b[0m\n\u001b[0;32m      5\u001b[0m \u001b[0mprint\u001b[0m\u001b[1;33m(\u001b[0m\u001b[0ms1\u001b[0m \u001b[1;33m-\u001b[0m \u001b[0ms2\u001b[0m\u001b[1;33m)\u001b[0m\u001b[1;33m\u001b[0m\u001b[0m\n\u001b[1;32m----> 6\u001b[1;33m \u001b[0mprint\u001b[0m\u001b[1;33m(\u001b[0m\u001b[0ms1\u001b[0m \u001b[1;33m+\u001b[0m \u001b[0ms2\u001b[0m\u001b[1;33m)\u001b[0m\u001b[1;33m\u001b[0m\u001b[0m\n\u001b[0m",
      "\u001b[1;31mTypeError\u001b[0m: unsupported operand type(s) for +: 'set' and 'set'"
     ]
    }
   ],
   "source": [
    "# 集合的数学操作\n",
    "s1 = {1,2,3,4}\n",
    "s2 = {3,4,5,6,7}\n",
    "\n",
    "print(s1 - s2)\n",
    "print(s1 + s2)"
   ]
  },
  {
   "cell_type": "code",
   "execution_count": 54,
   "metadata": {},
   "outputs": [
    {
     "name": "stdout",
     "output_type": "stream",
     "text": [
      "frozenset()\n",
      "<class 'frozenset'>\n"
     ]
    }
   ],
   "source": [
    "# frozenset:冰冻集合\n",
    "# 是不可修改的集合\n",
    "# \n",
    "s = frozenset()\n",
    "print(s)\n",
    "print(type(s))"
   ]
  },
  {
   "cell_type": "markdown",
   "metadata": {},
   "source": [
    "# dict 字典\n",
    "    字典是一种组合数据,没有顺序,以键值对形式出现\n",
    "    "
   ]
  },
  {
   "cell_type": "code",
   "execution_count": 63,
   "metadata": {},
   "outputs": [
    {
     "name": "stdout",
     "output_type": "stream",
     "text": [
      "{}\n",
      "{}\n",
      "{'i': 1, 't': 2, 'f': 4}\n",
      "{'i': 1, 't': 2, 'f': 4}\n",
      "{'i': 1, 't': 2, 'f': 4}\n",
      "{'one': 1, 'two': 2}\n"
     ]
    }
   ],
   "source": [
    "# 字典的创建\n",
    "d = {}\n",
    "print(d)\n",
    "\n",
    "d = dict()\n",
    "print(d)\n",
    "\n",
    "d = {\"i\":1, \"t\":2, \"f\":4}\n",
    "print(d)\n",
    "d = dict({\"i\":1, \"t\":2, \"f\":4})\n",
    "print(d)\n",
    "\n",
    "d = dict(i=1, t=2, f=4)\n",
    "print(d)\n",
    "\n",
    "d = dict([(\"one\",1),(\"two\",2)])\n",
    "print(d)"
   ]
  },
  {
   "cell_type": "markdown",
   "metadata": {},
   "source": [
    "# 字典的特性\n",
    "    字典没有分片和索引\n",
    "    字典每个数据都是键值对,kv对\n",
    "        key:必须是可哈希的值,int str float tuple\n",
    "        value:任何值"
   ]
  },
  {
   "cell_type": "code",
   "execution_count": 68,
   "metadata": {},
   "outputs": [
    {
     "name": "stdout",
     "output_type": "stream",
     "text": [
      "1\n",
      "{'one': 'yi', 'two': 2, 'three': 3}\n",
      "{'two': 2, 'three': 3}\n"
     ]
    }
   ],
   "source": [
    "# 字典常见操作\n",
    "\n",
    "# 访问数据\n",
    "d = {\"one\":1, \"two\":2, \"three\":3}\n",
    "print(d[\"one\"]) # 中括号是键\n",
    "\n",
    "d[\"one\"] = \"yi\"\n",
    "print(d)\n",
    "\n",
    "del d[\"one\"]\n",
    "print(d)"
   ]
  },
  {
   "cell_type": "code",
   "execution_count": 69,
   "metadata": {},
   "outputs": [
    {
     "name": "stdout",
     "output_type": "stream",
     "text": [
      "k\n"
     ]
    }
   ],
   "source": [
    "# 成员检测,in  ,not in\n",
    "# 只检测key的内容\n",
    "d = {\"one\":1, \"two\":2, \"three\":3}\n",
    "\n",
    "if 2 in d :\n",
    "    print(\"v\")\n",
    "if \"one\" in d:\n",
    "    print(\"k\")"
   ]
  },
  {
   "cell_type": "code",
   "execution_count": 73,
   "metadata": {},
   "outputs": [
    {
     "name": "stdout",
     "output_type": "stream",
     "text": [
      "one 1\n",
      "two 2\n",
      "three 3\n",
      "one 1\n",
      "two 2\n",
      "three 3\n",
      "1\n",
      "2\n",
      "3\n",
      "one 1\n",
      "two 2\n",
      "three 3\n"
     ]
    }
   ],
   "source": [
    "# 遍历操作,\n",
    "\n",
    "# 使用key的for循环\n",
    "d = {\"one\":1, \"two\":2, \"three\":3}\n",
    "for k in d:\n",
    "    print(k,  d[k])\n",
    "    \n",
    "\n",
    "# \n",
    "for k in d.keys():\n",
    "    print(k,  d[k])\n",
    "    \n",
    "# \n",
    "for v in d.values():\n",
    "    print(v)\n",
    "    \n",
    "# \n",
    "for k,v in d.items():\n",
    "    print(k,v)"
   ]
  },
  {
   "cell_type": "code",
   "execution_count": 77,
   "metadata": {},
   "outputs": [
    {
     "name": "stdout",
     "output_type": "stream",
     "text": [
      "{'one': 1, 'two': 2, 'three': 3}\n",
      "{'two': 2}\n"
     ]
    }
   ],
   "source": [
    "# 字典生成式,可以加限制条件\n",
    "d1 = {k:v for k,v in d.items()}\n",
    "print(d1)\n",
    "\n",
    "d2 = {k:v for k,v in d.items() if v % 2 == 0}\n",
    "print(d2)"
   ]
  },
  {
   "cell_type": "code",
   "execution_count": null,
   "metadata": {},
   "outputs": [],
   "source": [
    "# 字典通用函数:len  max  min  dict\n",
    "# str(字典),返回字典的字符串格式\n"
   ]
  },
  {
   "cell_type": "code",
   "execution_count": 78,
   "metadata": {},
   "outputs": [
    {
     "name": "stdout",
     "output_type": "stream",
     "text": [
      "dict_items([('one', 1), ('two', 2), ('three', 3)])\n"
     ]
    }
   ],
   "source": [
    "# clear\n",
    "# items:返回字典是键值对组成的元组格式\n",
    "\n",
    "i = d.items()\n",
    "print(i)"
   ]
  },
  {
   "cell_type": "code",
   "execution_count": 79,
   "metadata": {},
   "outputs": [
    {
     "name": "stdout",
     "output_type": "stream",
     "text": [
      "dict_keys(['one', 'two', 'three'])\n"
     ]
    }
   ],
   "source": [
    "# keys 返回字典的键组成的一个结构\n",
    "k = d.keys()\n",
    "print(k)"
   ]
  },
  {
   "cell_type": "code",
   "execution_count": 80,
   "metadata": {},
   "outputs": [
    {
     "name": "stdout",
     "output_type": "stream",
     "text": [
      "dict_values([1, 2, 3])\n"
     ]
    }
   ],
   "source": [
    "# values \n",
    "v = d.values()\n",
    "print(v)"
   ]
  },
  {
   "cell_type": "code",
   "execution_count": 83,
   "metadata": {},
   "outputs": [
    {
     "name": "stdout",
     "output_type": "stream",
     "text": [
      "1\n",
      "None\n"
     ]
    },
    {
     "ename": "KeyError",
     "evalue": "'one1'",
     "output_type": "error",
     "traceback": [
      "\u001b[1;31m---------------------------------------------------------------------------\u001b[0m",
      "\u001b[1;31mKeyError\u001b[0m                                  Traceback (most recent call last)",
      "\u001b[1;32m<ipython-input-83-092c7522d0d5>\u001b[0m in \u001b[0;36m<module>\u001b[1;34m()\u001b[0m\n\u001b[0;32m      2\u001b[0m \u001b[0mprint\u001b[0m\u001b[1;33m(\u001b[0m\u001b[0md\u001b[0m\u001b[1;33m.\u001b[0m\u001b[0mget\u001b[0m\u001b[1;33m(\u001b[0m\u001b[1;34m\"one\"\u001b[0m\u001b[1;33m)\u001b[0m\u001b[1;33m)\u001b[0m\u001b[1;33m\u001b[0m\u001b[0m\n\u001b[0;32m      3\u001b[0m \u001b[0mprint\u001b[0m\u001b[1;33m(\u001b[0m\u001b[0md\u001b[0m\u001b[1;33m.\u001b[0m\u001b[0mget\u001b[0m\u001b[1;33m(\u001b[0m\u001b[1;34m\"one1\"\u001b[0m\u001b[1;33m)\u001b[0m\u001b[1;33m)\u001b[0m\u001b[1;33m\u001b[0m\u001b[0m\n\u001b[1;32m----> 4\u001b[1;33m \u001b[0mprint\u001b[0m\u001b[1;33m(\u001b[0m\u001b[0md\u001b[0m\u001b[1;33m[\u001b[0m\u001b[1;34m\"one1\"\u001b[0m\u001b[1;33m]\u001b[0m\u001b[1;33m)\u001b[0m\u001b[1;33m\u001b[0m\u001b[0m\n\u001b[0m",
      "\u001b[1;31mKeyError\u001b[0m: 'one1'"
     ]
    }
   ],
   "source": [
    "# get 根据指定的键返回相应的值,好处是可以设置默认值\n",
    "print(d.get(\"one\"))\n",
    "print(d.get(\"one1\"))\n",
    "print(d[\"one1\"])\n",
    "\n"
   ]
  },
  {
   "cell_type": "code",
   "execution_count": 88,
   "metadata": {},
   "outputs": [
    {
     "name": "stdout",
     "output_type": "stream",
     "text": [
      "1\n",
      "100\n"
     ]
    }
   ],
   "source": [
    "print(d.get(\"one\",100))\n",
    "print(d.get(\"on1e, \",100))\n",
    "# 默认值可以设置,默认None"
   ]
  },
  {
   "cell_type": "code",
   "execution_count": 89,
   "metadata": {},
   "outputs": [
    {
     "name": "stdout",
     "output_type": "stream",
     "text": [
      "{'one': 'dd', 'two': 'dd', 'three': 'dd'}\n"
     ]
    }
   ],
   "source": [
    "# fromkeys  使用指定的序列作为键,使用一个值作为字典所有的键的值\n",
    "l = [\"one\", \"two\", \"three\"]\n",
    "d = dict.fromkeys(l,\"dd\")\n",
    "\n",
    "print(d)"
   ]
  }
 ],
 "metadata": {
  "kernelspec": {
   "display_name": "Python 3",
   "language": "python",
   "name": "python3"
  },
  "language_info": {
   "codemirror_mode": {
    "name": "ipython",
    "version": 3
   },
   "file_extension": ".py",
   "mimetype": "text/x-python",
   "name": "python",
   "nbconvert_exporter": "python",
   "pygments_lexer": "ipython3",
   "version": "3.7.0"
  }
 },
 "nbformat": 4,
 "nbformat_minor": 2
}
