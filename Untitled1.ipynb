{
 "cells": [
  {
   "cell_type": "markdown",
   "metadata": {},
   "source": [
    "# 列表的函数"
   ]
  },
  {
   "cell_type": "code",
   "execution_count": 30,
   "metadata": {
    "scrolled": true
   },
   "outputs": [
    {
     "name": "stdout",
     "output_type": "stream",
     "text": [
      "[0, 1, 2, 3, 4, 5, 6, 7]\n",
      "[0, 1, 2, 3, 4, 5, 6, 7, 100]\n",
      "[0, 1, 20, 2, 3, 4, 5, 6, 7, 100]\n",
      "100\n",
      "[0, 1, 20, 2, 3, 4, 5, 6, 7]\n",
      "78885384\n",
      "[0, 1, 2, 3, 4, 5, 6, 7]\n",
      "78885384\n",
      "[]\n",
      "78885384\n",
      "[1, 2, 3, 4]\n",
      "86617352\n",
      "[4, 3, 2, 1]\n",
      "86617352\n",
      "[4, 3, 2, 1, 5, 6, 7]\n",
      "[4, 3, 3, 2, 1, 5, 6, 7, 3]\n",
      "3\n",
      "[4, 3, 333, 2, 1, 5, 6, 7, 3]\n",
      "[4, 3, 333, 2, 1, 5, 6, 7, 3]\n",
      "86617352\n",
      "86617352\n",
      "[4, 3, 333, 2, 1, 5, 6, 7, 3]\n",
      "86617352\n",
      "78885384\n"
     ]
    }
   ],
   "source": [
    "# append 列表末尾插入元素\n",
    "a = [i for i in range(0,8)]\n",
    "print(a)\n",
    "a.append(100)\n",
    "print(a)\n",
    "\n",
    "# insert 指定位置插入元素\n",
    "# insert(index,data),位置是index的前面\n",
    "a.insert(2,20)\n",
    "print(a)\n",
    "\n",
    "# 删除\n",
    "# del ,删除list中的最后一个元素\n",
    "# pop,从list中最后一个元素弹出来,\n",
    "# remove,在列表中删除指定值的元素,被删除的值必须在list中,否则报错\n",
    "# 可以先行判断值是否在list中\n",
    "# if x in list:\n",
    "#    list.remove(x)\n",
    "b = a.pop()\n",
    "print(b)\n",
    "print(a)\n",
    "print(id(a))\n",
    "a.remove(20)\n",
    "print(a)\n",
    "print(id(a))\n",
    "\n",
    "# clear 清空\n",
    "a.clear()\n",
    "print(a)\n",
    "print(id(a))\n",
    "\n",
    "# 如果不需要列表地址保持不变,则清空列表可以用以下操作\n",
    "# a = list()\n",
    "# a = []\n",
    "\n",
    "# reverse,翻转,原地翻转\n",
    "a = [1, 2, 3, 4]\n",
    "print(a)\n",
    "print(id(a))\n",
    "a.reverse()\n",
    "print(a)\n",
    "print(id(a))\n",
    "\n",
    "# extend,扩展列表,两个列表,把一个直接拼接到另一个上\n",
    "b = [5, 6, 7]\n",
    "a.extend(b)\n",
    "print(a)\n",
    "\n",
    "# count,查找列表中指定值或元素个数\n",
    "a.append(3)\n",
    "a.insert(2,3)\n",
    "print(a)\n",
    "\n",
    "num = a.count(3)\n",
    "print(num)\n",
    "\n",
    "# copy 拷贝,浅拷贝\n",
    "\n",
    "# 列表类型变量赋值实例额,传地址操作,理解内存存储\n",
    "b = a\n",
    "b[2] = 333\n",
    "print(a)\n",
    "print(b)\n",
    "print(id(a))\n",
    "print(id(b))\n",
    "\n",
    "# copy函数,\n",
    "b = a.copy()\n",
    "print(b)\n",
    "print(id(a))\n",
    "print(id(b))"
   ]
  },
  {
   "cell_type": "code",
   "execution_count": 32,
   "metadata": {},
   "outputs": [
    {
     "name": "stdout",
     "output_type": "stream",
     "text": [
      "[1, 2, 3, [10, 20, 30]]\n",
      "[1, 2, 3, [10, 20, 30]]\n",
      "88772168\n",
      "86555336\n",
      "86555400\n",
      "86555400\n",
      "[1, 2, 3, [10, 20, 999]]\n",
      "[1, 2, 3, [10, 20, 999]]\n"
     ]
    }
   ],
   "source": [
    "# 深拷贝和浅拷贝的区别\n",
    "\n",
    "a = [1, 2, 3, [10, 20, 30]]\n",
    "b = a.copy()\n",
    "print(a)\n",
    "print(b)\n",
    "print(id(a))\n",
    "print(id(b))\n",
    "print(id(a[3]))\n",
    "print(id(b[3])) # 内部的嵌套列表地址不变,属于浅拷贝,值拷贝一层内容\n",
    "a[3][2] = 999\n",
    "print(a)\n",
    "print(b)\n",
    "\n",
    "# 深拷贝需要使用特定工具\n"
   ]
  },
  {
   "cell_type": "markdown",
   "metadata": {},
   "source": [
    "# 元组,tuple\n",
    "    元组可以看出一个不可更改的list\n",
    "    序列表,有序\n",
    "    元组数据值可以访问,不能修改\n",
    "    元组数据可以是任意类型\n",
    "    列表的所有特性,除了不可修改外,元组都有\n",
    "    "
   ]
  },
  {
   "cell_type": "code",
   "execution_count": 43,
   "metadata": {
    "scrolled": true
   },
   "outputs": [
    {
     "name": "stdout",
     "output_type": "stream",
     "text": [
      "<class 'tuple'>\n",
      "<class 'tuple'>\n",
      "(1,)\n",
      "<class 'int'>\n",
      "1\n",
      "<class 'tuple'>\n",
      "(1,)\n",
      "<class 'tuple'>\n",
      "(1, 2, 3)\n",
      "<class 'tuple'>\n",
      "(1, 2, 3)\n"
     ]
    }
   ],
   "source": [
    "# 创建元组\n",
    "t = ()\n",
    "print(type(t))\n",
    "\n",
    "# 创建只有一个值的元组\n",
    "t = (1,)\n",
    "print(type(t))\n",
    "print(t)\n",
    "a = (1)\n",
    "print(type(a))\n",
    "print(a)\n",
    "\n",
    "b = 1,\n",
    "print(type(b))\n",
    "print(b)\n",
    "\n",
    "# 创建多个值\n",
    "t = (1, 2, 3) #可以不加括号\n",
    "print(type(t))\n",
    "print(t)\n",
    "\n",
    "# 使用其他结构创建\n",
    "l = [1, 2, 3]\n",
    "t = tuple(l)\n",
    "print(type(t))\n",
    "print(t)"
   ]
  },
  {
   "cell_type": "code",
   "execution_count": 46,
   "metadata": {},
   "outputs": [
    {
     "name": "stdout",
     "output_type": "stream",
     "text": [
      "3\n"
     ]
    }
   ],
   "source": [
    "# 索引操作\n",
    "t = (1,2,3,4,5)\n",
    "print(t[2])"
   ]
  },
  {
   "cell_type": "code",
   "execution_count": 47,
   "metadata": {},
   "outputs": [
    {
     "ename": "IndexError",
     "evalue": "tuple index out of range",
     "output_type": "error",
     "traceback": [
      "\u001b[1;31m---------------------------------------------------------------------------\u001b[0m",
      "\u001b[1;31mIndexError\u001b[0m                                Traceback (most recent call last)",
      "\u001b[1;32m<ipython-input-47-778c02ad0fbb>\u001b[0m in \u001b[0;36m<module>\u001b[1;34m()\u001b[0m\n\u001b[0;32m      1\u001b[0m \u001b[1;31m# 超标错误\u001b[0m\u001b[1;33m\u001b[0m\u001b[1;33m\u001b[0m\u001b[0m\n\u001b[1;32m----> 2\u001b[1;33m \u001b[0mprint\u001b[0m\u001b[1;33m(\u001b[0m\u001b[0mt\u001b[0m\u001b[1;33m[\u001b[0m\u001b[1;36m6\u001b[0m\u001b[1;33m]\u001b[0m\u001b[1;33m)\u001b[0m\u001b[1;33m\u001b[0m\u001b[0m\n\u001b[0m",
      "\u001b[1;31mIndexError\u001b[0m: tuple index out of range"
     ]
    }
   ],
   "source": [
    "# 超标错误\n",
    "print(t[6])"
   ]
  },
  {
   "cell_type": "code",
   "execution_count": 51,
   "metadata": {},
   "outputs": [
    {
     "name": "stdout",
     "output_type": "stream",
     "text": [
      "(2, 4)\n",
      "(2,)\n"
     ]
    }
   ],
   "source": [
    "t1 = t[1::2]\n",
    "print(t1)\n",
    "\n",
    "t1 = t[1::8] # 切片可以超标\n",
    "print(t1)"
   ]
  },
  {
   "cell_type": "code",
   "execution_count": 55,
   "metadata": {},
   "outputs": [
    {
     "name": "stdout",
     "output_type": "stream",
     "text": [
      "86515504\n",
      "(1, 2, 3, 4, 5, 6)\n",
      "88682856\n"
     ]
    }
   ],
   "source": [
    "# 序列相加\n",
    "t1 = (1,2,3)\n",
    "t2 = (4,5,6)\n",
    "print(id(t1))\n",
    "t1 = t1 + t2 # 这个操作是传址操作,相当于重新赋值,内部元素不可更改\n",
    "print(t1)\n",
    "print(id(t1))\n"
   ]
  },
  {
   "cell_type": "code",
   "execution_count": 57,
   "metadata": {},
   "outputs": [
    {
     "name": "stdout",
     "output_type": "stream",
     "text": [
      "(1, 2, 3, 1, 2, 3, 1, 2, 3)\n"
     ]
    }
   ],
   "source": [
    "# 元组相乘\n",
    "t = (1, 2, 3)\n",
    "t = t * 3\n",
    "print(t)"
   ]
  },
  {
   "cell_type": "code",
   "execution_count": 58,
   "metadata": {},
   "outputs": [
    {
     "name": "stdout",
     "output_type": "stream",
     "text": [
      "yes\n"
     ]
    }
   ],
   "source": [
    "# 成员检测\n",
    "if 2 in t:\n",
    "    print(\"yes\")\n",
    "else:\n",
    "    print(\"no\")\n",
    "    "
   ]
  },
  {
   "cell_type": "code",
   "execution_count": 67,
   "metadata": {},
   "outputs": [
    {
     "name": "stdout",
     "output_type": "stream",
     "text": [
      "(1, 2, 3)\n",
      "(1, 2, 3)\n",
      "(1, 2, 3)\n",
      "(1, 2, 3)\n",
      "(1, 2, 3)\n",
      "(1, 2, 3)\n",
      "1    2    ((1, 2, 3), (1, 2, 3), (1, 2, 3))\n",
      "1    2    ((1, 2, 3), (1, 2, 3), (1, 2, 3))\n",
      "1    2    ((1, 2, 3), (1, 2, 3), (1, 2, 3))\n"
     ]
    }
   ],
   "source": [
    "# 元组遍历,for循环\n",
    "# 单层元组遍历\n",
    "\n",
    "for i in t:\n",
    "    print(i,)\n",
    "    \n",
    "# 双层元组的遍历\n",
    "a = ((1, 2, 3), (1, 2, 3), (1, 2, 3))\n",
    "for i in a:\n",
    "    print(i)\n",
    "for k,m,n in a:\n",
    "    print(k,\"  \",m,\"  \",t)"
   ]
  }
 ],
 "metadata": {
  "kernelspec": {
   "display_name": "Python 3",
   "language": "python",
   "name": "python3"
  },
  "language_info": {
   "codemirror_mode": {
    "name": "ipython",
    "version": 3
   },
   "file_extension": ".py",
   "mimetype": "text/x-python",
   "name": "python",
   "nbconvert_exporter": "python",
   "pygments_lexer": "ipython3",
   "version": "3.7.0"
  }
 },
 "nbformat": 4,
 "nbformat_minor": 2
}
