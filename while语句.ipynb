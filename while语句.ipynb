{
 "cells": [
  {
   "cell_type": "markdown",
   "metadata": {},
   "source": [
    "# while循环\n",
    "- 一个循环语句\n",
    "- 表示当某条件成立时，就循环，\n",
    "- 不知道具体循环次数，但能确定循环的成立条件的时候用while\n",
    "- while循环语法：\n",
    "    while 条件表达式：\n",
    "        语句块\n",
    "    ## 另外一种表示方法\n",
    "    while 条件表达式：\n",
    "        语句块\n",
    "    else：\n",
    "        语句块"
   ]
  },
  {
   "cell_type": "code",
   "execution_count": 4,
   "metadata": {
    "scrolled": true
   },
   "outputs": [
    {
     "name": "stdout",
     "output_type": "stream",
     "text": [
      "第1年拿了1050.0块钱\n",
      "第2年拿了1102.5块钱\n",
      "第3年拿了1157.625块钱\n",
      "第4年拿了1215.5062500000001块钱\n",
      "第5年拿了1276.2815625000003块钱\n",
      "第6年拿了1340.0956406250004块钱\n",
      "第7年拿了1407.1004226562504块钱\n",
      "第8年拿了1477.455443789063块钱\n",
      "第9年拿了1551.3282159785163块钱\n",
      "第10年拿了1628.8946267774422块钱\n",
      "第11年拿了1710.3393581163143块钱\n",
      "第12年拿了1795.8563260221301块钱\n",
      "第13年拿了1885.6491423232367块钱\n",
      "第14年拿了1979.9315994393985块钱\n",
      "第15年拿了2078.9281794113685块钱\n",
      "第15的时候你的本金能翻倍\n"
     ]
    }
   ],
   "source": [
    "# 如果说年利率是5%,则多少年后本钱会翻倍，复利计算\n",
    "\n",
    "benqian = 1000\n",
    "year = 0\n",
    "while benqian < 2000:\n",
    "    benqian = benqian * (1+0.05)\n",
    "    year += 1 # year = year + 1\n",
    "    print(\"第{0}年拿了{1}块钱\".format(year,benqian))\n",
    "else:\n",
    "    print(\"第\"+str(year)+\"的时候你的本金能翻倍\")"
   ]
  },
  {
   "cell_type": "markdown",
   "metadata": {},
   "source": [
    "# 函数\n",
    "- 代码的一种组织形式\n",
    "- 一个函数一般完成一项特定的功能\n",
    "- 函数使用\n",
    "    - 函数需要先定义\n",
    "    - 使用函数俗称调用"
   ]
  },
  {
   "cell_type": "code",
   "execution_count": 6,
   "metadata": {},
   "outputs": [],
   "source": [
    "# 定义一个函数\n",
    "# 只是定义不会执行\n",
    "# 1.def关键字，后跟一个空格\n",
    "# 2.函数取名，自己定义，需要遵循命名规则，大驼峰只给类用，一般使用小驼峰\n",
    "# 3.后面括号和冒号不能省，括号内可以有参数\n",
    "# 4.函数内所有代码缩进\n",
    "def func():\n",
    "    print(\"我是一个函数\")\n",
    "    print(\"我要完成一定的功能\")\n",
    "    print(\"我结束了\")"
   ]
  },
  {
   "cell_type": "code",
   "execution_count": 7,
   "metadata": {},
   "outputs": [
    {
     "name": "stdout",
     "output_type": "stream",
     "text": [
      "我是一个函数\n",
      "我要完成一定的功能\n",
      "我结束了\n"
     ]
    }
   ],
   "source": [
    "# 函数调用\n",
    "# 直接函数名后面跟括号\n",
    "func()  #直接调用"
   ]
  },
  {
   "cell_type": "markdown",
   "metadata": {},
   "source": [
    "### 函数的参数和返回值\n",
    "- 参数：负责给函数传递一些必要的数据或信息\n",
    "    - 形参(形式参数):在函数定义的时候参数没有具体值,只是一个占位的符号\n",
    "    - 实参(实际参数):在调用函数的时候输入的值\n",
    "- 返回值：函数的执行结果\n",
    "    - 使用return关键字\n",
    "    - 如果没有return,默认返回一个None\n",
    "    - 函数一旦执行return语句,无条件返回,函数结束执行"
   ]
  },
  {
   "cell_type": "code",
   "execution_count": 8,
   "metadata": {},
   "outputs": [
    {
     "name": "stdout",
     "output_type": "stream",
     "text": [
      "feifei,吃了没\n",
      "吃的啥啊\n"
     ]
    }
   ],
   "source": [
    "# 参数的定义和使用\n",
    "# 参数name只是一个符号,代表的是调用的时候的某一个数据\n",
    "# 调用的时候会用n的值代替函数中所有name\n",
    "def hello(name):# name是形参\n",
    "    print(\"{0},吃了没\".format(name))\n",
    "    print(\"吃的啥啊\")\n",
    "\n",
    "n = \"feifei\"# n是实参\n",
    "hello(n)"
   ]
  },
  {
   "cell_type": "code",
   "execution_count": 9,
   "metadata": {},
   "outputs": [
    {
     "name": "stdout",
     "output_type": "stream",
     "text": [
      "feifei,吃了没\n",
      "吃的啥啊\n",
      "我问feifei吃了没,feifei不理我\n"
     ]
    }
   ],
   "source": [
    "# return语句的基本使用\n",
    "# 函数打完招呼后返回一句话\n",
    "def hello(name):# name是形参\n",
    "    print(\"{0},吃了没\".format(name))\n",
    "    print(\"吃的啥啊\")\n",
    "    return \"我问{0}吃了没,{1}不理我\".format(name,name)\n",
    "n = \"feifei\"# n是实参\n",
    "rst = hello(n)\n",
    "print(rst)"
   ]
  },
  {
   "cell_type": "code",
   "execution_count": 16,
   "metadata": {},
   "outputs": [
    {
     "name": "stdout",
     "output_type": "stream",
     "text": [
      "ff,how are you\n",
      "byebye\n"
     ]
    }
   ],
   "source": [
    "# return案例\n",
    "\n",
    "def hello(name):\n",
    "    print(\"{0},how are you\".format(name))\n",
    "    return \"byebye\"\n",
    "    print(\"fine\")\n",
    "    return \"{0}! ni you dian ao jiao\".format(name)\n",
    "n = \"ff\"\n",
    "nn = hello(n)\n",
    "print(nn)"
   ]
  },
  {
   "cell_type": "code",
   "execution_count": 22,
   "metadata": {},
   "outputs": [
    {
     "name": "stdout",
     "output_type": "stream",
     "text": [
      "1  \n",
      "2 4  \n",
      "3 6 9  \n",
      "4 8 12 16  \n",
      "5 10 15 20 25  \n",
      "6 12 18 24 30 36  \n",
      "7 14 21 28 35 42 49  \n",
      "8 16 24 32 40 48 56 64  \n",
      "9 18 27 36 45 54 63 72 81  \n"
     ]
    }
   ],
   "source": [
    "# 九九乘法表\n",
    "for h in range(1,10):\n",
    "    for l in range(1,h+1):\n",
    "        print(h*l,end=\" \")\n",
    "    print(\" \")"
   ]
  },
  {
   "cell_type": "code",
   "execution_count": 57,
   "metadata": {},
   "outputs": [
    {
     "name": "stdout",
     "output_type": "stream",
     "text": [
      "1  \n",
      "2 4  \n",
      "3 6 9  \n",
      "4 8 12 16  \n",
      "5 10 15 20 25  \n",
      "6 12 18 24 30 36  \n",
      "7 14 21 28 35 42 49  \n",
      "8 16 24 32 40 48 56 64  \n",
      "9 18 27 36 45 54 63 72 81  \n"
     ]
    }
   ],
   "source": [
    "\n",
    "def jiu(h):\n",
    "    for l in range(1,h+1):\n",
    "        a=l*h\n",
    "        print(\"{0}\".format(a,width=8),end=\" \")\n",
    "    print(\" \")\n",
    "for h in range(1,10):\n",
    "    jiu(h)"
   ]
  },
  {
   "cell_type": "code",
   "execution_count": 45,
   "metadata": {},
   "outputs": [
    {
     "name": "stdout",
     "output_type": "stream",
     "text": [
      "Help on built-in function format in module builtins:\n",
      "\n",
      "format(value, format_spec='', /)\n",
      "    Return value.__format__(format_spec)\n",
      "    \n",
      "    format_spec defaults to the empty string.\n",
      "    See the Format Specification Mini-Language section of help('FORMATTING') for\n",
      "    details.\n",
      "\n"
     ]
    }
   ],
   "source": [
    "help(format)"
   ]
  },
  {
   "cell_type": "code",
   "execution_count": null,
   "metadata": {},
   "outputs": [],
   "source": []
  },
  {
   "cell_type": "markdown",
   "metadata": {},
   "source": [
    "## 参数详解\n",
    "- 参数分类\n",
    "    - 普通参数\n",
    "    - 默认参数\n",
    "    - 关键字参数\n",
    "    - 收集参数\n",
    "- 普通参数\n",
    "    - 定义的时候直接定义变量名\n",
    "    - 调用的时候直接把变量或者值放入指定位置\n",
    "        def 函数名 (参数1,参数2,...):\n",
    "            函数体\n",
    "            \n",
    "            # 调用\n",
    "            函数名(value1,value2,...)\n",
    "            #调用的时候,具体参考的是位置,一一对应赋值\n",
    "- 默认参数\n",
    "    - 形参带有默认值\n",
    "    - 调用的时候,若果没有对相应的形参赋值,使用默认值\n",
    "    - 写法\n",
    "        def func_name(p1=v1,p2=v2,...)\n",
    "            func_block\n",
    "            \n",
    "            #调用1\n",
    "            func_name()\n",
    "            \n",
    "            #调用2\n",
    "            v1=1\n",
    "            v2=2\n",
    "            func_name(v1,v2)\n",
    "            "
   ]
  },
  {
   "cell_type": "code",
   "execution_count": 18,
   "metadata": {},
   "outputs": [],
   "source": [
    "# 默认参数实例\n",
    "# 报名实例,姓名,年龄,性别\n",
    "def reg(name,age,gender=\"male\"):\n",
    "    if gender==\"male\":\n",
    "        print(\"{0} is {1},and he is a good guy\".format(name,age))\n",
    "    else:\n",
    "        print(\"{0} is {1},and she is a good guy\".format(name,age))\n",
    "        "
   ]
  },
  {
   "cell_type": "code",
   "execution_count": 19,
   "metadata": {},
   "outputs": [
    {
     "name": "stdout",
     "output_type": "stream",
     "text": [
      "xiaming is 28,and he is a good guy\n",
      "xiaohua is 22,and she is a good guy\n"
     ]
    }
   ],
   "source": [
    "reg(\"xiaming\",28)\n",
    "reg(\"xiaohua\",22,\"female\")"
   ]
  }
 ],
 "metadata": {
  "kernelspec": {
   "display_name": "Python 3",
   "language": "python",
   "name": "python3"
  },
  "language_info": {
   "codemirror_mode": {
    "name": "ipython",
    "version": 3
   },
   "file_extension": ".py",
   "mimetype": "text/x-python",
   "name": "python",
   "nbconvert_exporter": "python",
   "pygments_lexer": "ipython3",
   "version": "3.7.0"
  }
 },
 "nbformat": 4,
 "nbformat_minor": 2
}
