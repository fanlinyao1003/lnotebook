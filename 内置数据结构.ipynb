{
 "cells": [
  {
   "cell_type": "markdown",
   "metadata": {},
   "source": [
    "# 汉诺塔问题\n",
    "- 规则\n",
    "    1.每次移动一个盘子\n",
    "    2.任何时候大盘子在下面,小盘子在上面\n",
    "- 方法:\n",
    "    1. n=1: 直接把A上的盘子移动到C上,A->C\n",
    "    2. n=2:\n",
    "        把A上的小盘子放到B上,\n",
    "        把A上的大盘子放到C上,\n",
    "        把B上的小盘子放到C上,\n",
    "    3. n=3:\n",
    "        把A上的两个盘子通过C放到B上去,调用递归实现\n",
    "        把A上的大盘子放到C上\n",
    "        把B上两个盘子通过A放到C上去,调用递归实现\n",
    "    4. n=n:\n",
    "        把A上的N-1个盘子借助C放到B上去,调用递归\n",
    "        把A上的大盘子放到C上去\n",
    "        把B上N-1个盘子借助A移动到C上,调用递归"
   ]
  },
  {
   "cell_type": "code",
   "execution_count": 11,
   "metadata": {},
   "outputs": [
    {
     "name": "stdout",
     "output_type": "stream",
     "text": [
      "A --> C\n"
     ]
    }
   ],
   "source": [
    "def hano(n,a,b,c):\n",
    "    '''\n",
    "    汉诺塔递归实现\n",
    "    n:代表几个盘子\n",
    "    a:代表第一个塔\n",
    "    b:代表第二个塔\n",
    "    c:代表第三个塔\n",
    "    '''\n",
    "    \n",
    "    if n == 1:\n",
    "        print(a, \"-->\", c)\n",
    "        return None\n",
    "    if n == 2:\n",
    "        print(a, \"-->\", b)\n",
    "        print(a, \"-->\", c)\n",
    "        print(b, \"-->\", c)\n",
    "        return None\n",
    "    # 把n-1个盘子,从塔a借助c塔移到b塔上\n",
    "    hano(n-1,a,c,b)\n",
    "    print(a, \"-->\", c)\n",
    "    # 把n-1个盘子,从塔b借助塔a移到c塔去\n",
    "    hano(n-1,b,a,c)\n",
    "    \n",
    "a = \"A\"\n",
    "b = \"B\"\n",
    "c = \"C\"\n",
    "\n",
    "n = 1\n",
    "\n",
    "hano(n,a,b,c)"
   ]
  },
  {
   "cell_type": "code",
   "execution_count": 6,
   "metadata": {},
   "outputs": [
    {
     "name": "stdout",
     "output_type": "stream",
     "text": [
      "A --> B\n",
      "A --> C\n",
      "B --> C\n"
     ]
    }
   ],
   "source": [
    "n = 2\n",
    "hano(n,a,b,c)"
   ]
  },
  {
   "cell_type": "code",
   "execution_count": 7,
   "metadata": {},
   "outputs": [
    {
     "name": "stdout",
     "output_type": "stream",
     "text": [
      "A --> C\n",
      "A --> B\n",
      "C --> B\n",
      "A --> C\n",
      "B --> A\n",
      "B --> C\n",
      "A --> C\n"
     ]
    }
   ],
   "source": [
    "n = 3\n",
    "hano(n,a,b,c)"
   ]
  },
  {
   "cell_type": "code",
   "execution_count": 8,
   "metadata": {},
   "outputs": [
    {
     "name": "stdout",
     "output_type": "stream",
     "text": [
      "A --> C\n",
      "A --> B\n",
      "C --> B\n",
      "A --> C\n",
      "B --> A\n",
      "B --> C\n",
      "A --> C\n",
      "A --> B\n",
      "C --> B\n",
      "C --> A\n",
      "B --> A\n",
      "C --> B\n",
      "A --> C\n",
      "A --> B\n",
      "C --> B\n",
      "A --> C\n",
      "B --> A\n",
      "B --> C\n",
      "A --> C\n",
      "B --> A\n",
      "C --> B\n",
      "C --> A\n",
      "B --> A\n",
      "B --> C\n",
      "A --> C\n",
      "A --> B\n",
      "C --> B\n",
      "A --> C\n",
      "B --> A\n",
      "B --> C\n",
      "A --> C\n"
     ]
    }
   ],
   "source": [
    "n = 5\n",
    "hano(n,a,b,c)"
   ]
  },
  {
   "cell_type": "markdown",
   "metadata": {},
   "source": [
    "# 列表的遍历\n",
    "for\n",
    "while"
   ]
  },
  {
   "cell_type": "code",
   "execution_count": 13,
   "metadata": {},
   "outputs": [
    {
     "name": "stdout",
     "output_type": "stream",
     "text": [
      "1\n",
      "2\n",
      "3\n",
      "4\n",
      "5\n"
     ]
    }
   ],
   "source": [
    "# for in list\n",
    "a = [1,2,3,4,5]\n",
    "# 打印列表的元素\n",
    "for i in a:\n",
    "    print(i)"
   ]
  },
  {
   "cell_type": "code",
   "execution_count": 17,
   "metadata": {},
   "outputs": [
    {
     "name": "stdout",
     "output_type": "stream",
     "text": [
      "I\n",
      " \n",
      "l\n",
      "o\n",
      "v\n",
      "e\n",
      " \n",
      "f\n",
      "e\n",
      "i\n",
      "f\n",
      "e\n",
      "i\n"
     ]
    }
   ],
   "source": [
    "b = \"I love feifei\"\n",
    "for i in b:\n",
    "    print(i)"
   ]
  },
  {
   "cell_type": "code",
   "execution_count": 1,
   "metadata": {},
   "outputs": [
    {
     "name": "stdout",
     "output_type": "stream",
     "text": [
      "1\n",
      "2\n",
      "3\n",
      "4\n",
      "5\n",
      "6\n"
     ]
    }
   ],
   "source": [
    "a = [1,2,3,4,5,6]\n",
    "length = len(a)\n",
    "i = 0\n",
    "\n",
    "while i < length:\n",
    "    print(a[i])\n",
    "    i += 1"
   ]
  },
  {
   "cell_type": "code",
   "execution_count": 3,
   "metadata": {},
   "outputs": [
    {
     "name": "stdout",
     "output_type": "stream",
     "text": [
      "one     1\n",
      "two     2\n",
      "three     3\n"
     ]
    }
   ],
   "source": [
    "# 双层列表循环\n",
    "a = [[\"one\", 1], [\"two\", 2], [\"three\", 3] ]\n",
    "\n",
    "for k,v in a:\n",
    "    print(k, \"   \", v)"
   ]
  },
  {
   "cell_type": "markdown",
   "metadata": {},
   "source": [
    "# 列表内涵\n",
    "通过简单的方法创建列表"
   ]
  },
  {
   "cell_type": "code",
   "execution_count": 10,
   "metadata": {},
   "outputs": [
    {
     "name": "stdout",
     "output_type": "stream",
     "text": [
      "[1, 2, 3, 4, 5]\n",
      "[10, 20, 30, 40, 50]\n",
      "[1, 2, 3, 4, 5, 6, 7, 8, 9, 10, 11, 12, 13, 14, 15, 16, 17, 18, 19, 20, 21, 22, 23, 24, 25, 26, 27, 28, 29, 30, 31, 32, 33, 34]\n",
      "[2, 4, 6, 8, 10, 12, 14, 16, 18, 20, 22, 24, 26, 28, 30, 32, 34]\n",
      "[2, 4, 6, 8, 10, 12, 14, 16, 18, 20, 22, 24, 26, 28, 30, 32, 34]\n"
     ]
    }
   ],
   "source": [
    "# for 创建\n",
    "# 用list a 创建一个list b \n",
    "# 把a中的元素逐个放入新列表b 中\n",
    "a = [1,2,3,4,5]\n",
    "b = [i for i in a]\n",
    "print(b)\n",
    "\n",
    "# 把a中的元素乘以10放入列表b中\n",
    "a = [1,2,3,4,5]\n",
    "b = [i*10 for i in a]\n",
    "print(b)\n",
    "\n",
    "# 把a中的偶数放入新的列表b中\n",
    "a = [x for x in range(1,35)]\n",
    "b = [i for i in a if i % 2 == 0]\n",
    "c = [i for i in range(1,35) if i % 2 == 0]\n",
    "print(a)\n",
    "print(b)\n",
    "print(c)"
   ]
  },
  {
   "cell_type": "code",
   "execution_count": 14,
   "metadata": {},
   "outputs": [
    {
     "name": "stdout",
     "output_type": "stream",
     "text": [
      "[1, 2, 3]\n",
      "[100, 200, 300]\n",
      "[101, 201, 301, 102, 202, 302, 103, 203, 303]\n"
     ]
    }
   ],
   "source": [
    "# 列表嵌套\n",
    "a = [i for i in range(1,4)]\n",
    "print(a)\n",
    "b = [j for j in range(100,400) if j % 100 ==0]\n",
    "print(b)\n",
    "c = [i + j for i in a for j in b]\n",
    "print(c)"
   ]
  },
  {
   "cell_type": "code",
   "execution_count": 19,
   "metadata": {},
   "outputs": [
    {
     "name": "stdout",
     "output_type": "stream",
     "text": [
      "20\n",
      "19\n",
      "python\n",
      "0\n"
     ]
    }
   ],
   "source": [
    "# 列表的常用函数\n",
    "# len:求列表的长度\n",
    "a = [x for x in range(0,20)]\n",
    "print(len(a))\n",
    "\n",
    "# max:求最大值\n",
    "# min:求最小值\n",
    "print(max(a))\n",
    "b = [\"man\",\"film\",\"python\"]\n",
    "print(max(b))\n",
    "print(min(a))"
   ]
  },
  {
   "cell_type": "code",
   "execution_count": 21,
   "metadata": {},
   "outputs": [
    {
     "name": "stdout",
     "output_type": "stream",
     "text": [
      "['I', ' ', 'l', 'o', 'v', 'e', ' ', 'f', 'e', 'i', 'f', 'e', 'i']\n",
      "[0, 1, 2, 3, 4, 5, 6, 7, 8, 9]\n"
     ]
    }
   ],
   "source": [
    "# list :将其他格式的数据转换成list\n",
    "a = \"I love feifei\"\n",
    "b = list(a)\n",
    "print(b)\n",
    "\n",
    "print(list(range(0,10)))"
   ]
  },
  {
   "cell_type": "code",
   "execution_count": null,
   "metadata": {},
   "outputs": [],
   "source": []
  }
 ],
 "metadata": {
  "kernelspec": {
   "display_name": "Python 3",
   "language": "python",
   "name": "python3"
  },
  "language_info": {
   "codemirror_mode": {
    "name": "ipython",
    "version": 3
   },
   "file_extension": ".py",
   "mimetype": "text/x-python",
   "name": "python",
   "nbconvert_exporter": "python",
   "pygments_lexer": "ipython3",
   "version": "3.7.0"
  }
 },
 "nbformat": 4,
 "nbformat_minor": 2
}
