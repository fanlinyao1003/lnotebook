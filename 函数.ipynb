{
 "cells": [
  {
   "cell_type": "markdown",
   "metadata": {},
   "source": [
    "## 关键字参数\n",
    "    - 语法:\n",
    "        def func(p1=v1,p2=v2,...):\n",
    "            func_body\n",
    "        \n",
    "        调用函数\n",
    "        func(p1=value1,p2=value2,...)\n",
    "    - 比较麻烦,但有好处:\n",
    "        -不容易混淆,一般实参和形参只是按照位置一一对应,容易混淆\n",
    "        - 使用关键字参数,可以不考虑实参位置\n",
    "        "
   ]
  },
  {
   "cell_type": "code",
   "execution_count": 2,
   "metadata": {},
   "outputs": [
    {
     "name": "stdout",
     "output_type": "stream",
     "text": [
      "I am a student.\n",
      "我叫feifei,今年26岁,我家住在cd.\n",
      "I am a student.\n",
      "我叫feifei,今年26岁,我家住在cd.\n"
     ]
    }
   ],
   "source": [
    "# 关键字参数\n",
    "def stu(name,age,addr):\n",
    "    print(\"I am a student.\")\n",
    "    print(\"我叫{0},今年{1}岁,我家住在{2}.\".format(name,age,addr))\n",
    "\n",
    "n=\"feifei\"\n",
    "a=26\n",
    "addr=\"cd\"\n",
    "# 普通参数,值传递位置,容易混淆\n",
    "stu(n,a,addr)\n",
    "\n",
    "\n",
    "def stu_key(name,age,addr):\n",
    "    print(\"I am a student.\")\n",
    "    print(\"我叫{0},今年{1}岁,我家住在{2}.\".format(name,age,addr))\n",
    "\n",
    "n = \"feifei\"\n",
    "a = 26\n",
    "addr = \"cd\"\n",
    "\n",
    "# 关键字参数,\n",
    "stu_key(age=a, name=n ,addr=addr)# 不考虑位置"
   ]
  },
  {
   "cell_type": "markdown",
   "metadata": {},
   "source": [
    "## 收集参数\n",
    "- 把没有位置,不能和定义式的参数位置相对应的参数,放入一个特定的数据结构中\n",
    "- 语法\n",
    "    \n",
    "    def func(*args)\n",
    "        func_body\n",
    "        #按照list使用方法访问args得到传入的参数\n",
    "        \n",
    "        调用:\n",
    "        func(p1.p2,p3,....)\n",
    "        参数名args不是必须这么写,约定俗成\n",
    "        参数名args前必须有*\n",
    "        收集参数可以和其他参数并存"
   ]
  },
  {
   "cell_type": "code",
   "execution_count": 5,
   "metadata": {},
   "outputs": [
    {
     "name": "stdout",
     "output_type": "stream",
     "text": [
      "Hi!\n",
      "<class 'tuple'>\n",
      "feifei\n",
      "18\n",
      "cd\n",
      "yy\n",
      "love\n",
      "Hi!\n",
      "<class 'tuple'>\n",
      "fly\n"
     ]
    }
   ],
   "source": [
    "# 收集参数\n",
    "# 函数模拟学生自我介绍,但内容不清楚\n",
    "# 把args看做一个list\n",
    "\n",
    "def stu(*args):\n",
    "    print(\"Hi!\")\n",
    "    # type 函数的作用是检测变量的类型\n",
    "    print(type(args))\n",
    "    for item in args:\n",
    "        print(item)\n",
    "        \n",
    "stu(\"feifei\", 18, \"cd\", \"yy\", \"love\")\n",
    "\n",
    "stu(\"fly\")"
   ]
  },
  {
   "cell_type": "code",
   "execution_count": 6,
   "metadata": {},
   "outputs": [
    {
     "name": "stdout",
     "output_type": "stream",
     "text": [
      "Hi!\n",
      "<class 'tuple'>\n"
     ]
    }
   ],
   "source": [
    "# 收集参数案例\n",
    "# 说明收集参数可以不带参数,此时收集参数为空tuple\n",
    "stu()"
   ]
  },
  {
   "cell_type": "markdown",
   "metadata": {},
   "source": [
    "### 收集参数之关键字参数\n",
    "- 把关键字参数按照字典的格式存入收集参数\n",
    "- 语法:\n",
    "    \n",
    "    def func( **kwargs):  # kwargs约定俗称 \n",
    "        func_body\n",
    "        \n",
    "    #调用:\n",
    "    func(p1=v1,p2=v2,...)\n",
    " - 调用的时候吧多余的关键字参数放入kwargs\n",
    " - 访问kwargs需要按照字典的格式访问\n",
    " "
   ]
  },
  {
   "cell_type": "code",
   "execution_count": 13,
   "metadata": {},
   "outputs": [
    {
     "name": "stdout",
     "output_type": "stream",
     "text": [
      "Hi!\n",
      "<class 'dict'>\n",
      "name    feifei\n",
      "age    19\n",
      "addr    cd\n",
      "love    fly\n",
      "work    te\n",
      "----------------------------------------\n",
      "Hi!\n",
      "<class 'dict'>\n",
      "name    zhou\n",
      "addr    hz\n"
     ]
    }
   ],
   "source": [
    "# 收集参数案例\n",
    "# 自我介绍\n",
    "# 调用的时候需要使用关键字参数调用\n",
    "\n",
    "def stu( **kwargs):\n",
    "    print(\"Hi!\")\n",
    "    print(type(kwargs))# 在函数体内对于keargs的使用不带星号\n",
    "    # 字典的访问Python2和Python3有区别\n",
    "    for k,v in kwargs.items():\n",
    "        print(k, \"  \", v)\n",
    "\n",
    "stu(name=\"feifei\", age=19, addr=\"cd\", love=\"fly\", work=\"te\")\n",
    "\n",
    "print(\"-\" * 40)\n",
    "\n",
    "stu(name=\"zhou\", addr=\"hz\")\n",
    "\n"
   ]
  },
  {
   "cell_type": "code",
   "execution_count": 14,
   "metadata": {},
   "outputs": [
    {
     "name": "stdout",
     "output_type": "stream",
     "text": [
      "Hi!\n",
      "<class 'dict'>\n"
     ]
    }
   ],
   "source": [
    "# 收集参数为空\n",
    "stu()\n"
   ]
  },
  {
   "cell_type": "markdown",
   "metadata": {},
   "source": [
    "### 收集参数混合调用顺序问题\n",
    "- 收集参数,关键字参数,普通参数,可以混合使用\n",
    "- 使用规则就是,普通参数和关键字参数优先\n",
    "- 定义的时候一般找普通参数,关键字参数,收集参数tuple,收集参数dict"
   ]
  },
  {
   "cell_type": "code",
   "execution_count": 25,
   "metadata": {},
   "outputs": [
    {
     "name": "stdout",
     "output_type": "stream",
     "text": [
      "Hi\n",
      "我叫feifei,我今年19岁\n",
      "meiyouaihao\n",
      "********************\n",
      "Hi\n",
      "我叫feifei,我今年19岁\n",
      "wo d ai hao shi feifei\n",
      "********************\n"
     ]
    }
   ],
   "source": [
    "# 收集参数混合调用\n",
    "# stu模拟一个学生自我介绍\n",
    "\n",
    "def stu(name, age, *args, hobby=\"meiyou\", **kwargs):\n",
    "    print(\"Hi\")\n",
    "    print(\"我叫{0},我今年{1}岁\".format(name,age))\n",
    "    if hobby == \"meiyou\":\n",
    "        print(\"meiyouaihao\")\n",
    "    else:\n",
    "        print(\"wo d ai hao shi {0}\".format(hobby))\n",
    "    print(\"*\" * 20)\n",
    "    \n",
    "    for i in args:\n",
    "        print(i)\n",
    "        \n",
    "    for k,v in kwargs:\n",
    "        print(k,\"***\",v)\n",
    "        \n",
    "name = \"feifei\"\n",
    "age = 19\n",
    "\n",
    "stu(name, age)\n",
    "\n",
    "stu(name, age, hobby=\"feifei\")"
   ]
  },
  {
   "cell_type": "markdown",
   "metadata": {},
   "source": [
    "#  返回值\n",
    "- 函数和过程的区别\n",
    "    有无返回值\n",
    "- 需要用return显示返回内容\n",
    "- 若果没有,默认返回None\n",
    "- 推荐写法,无论有无返回值,最后都要以return结束"
   ]
  },
  {
   "cell_type": "markdown",
   "metadata": {},
   "source": [
    "# 函数文档\n",
    "- 函数文档的作用是对当前函数提供使用相关参数信息\n",
    "- 文档的写法:\n",
    "    - 在函数内部开始的第一行使用三引号字符串定义符\n",
    "    - 一般具有特定格式\n",
    "    - 参看案例\n",
    "- 文档查看\n",
    "    - 使用help函数,形如:help(func)\n",
    "    - 使用doc"
   ]
  },
  {
   "cell_type": "code",
   "execution_count": 34,
   "metadata": {},
   "outputs": [],
   "source": [
    "# 文档写法案例\n",
    "# 函数stu是模拟学生自我介绍\n",
    "def stu(name, age, *args):\n",
    "    '''\n",
    "    zheshidiyihang\n",
    "    zhishiwend\n",
    "    '''\n",
    "    pass"
   ]
  },
  {
   "cell_type": "code",
   "execution_count": 35,
   "metadata": {},
   "outputs": [
    {
     "name": "stdout",
     "output_type": "stream",
     "text": [
      "Help on function stu in module __main__:\n",
      "\n",
      "stu(name, age, *args)\n",
      "    zheshidiyihang\n",
      "    zhishiwend\n",
      "\n"
     ]
    },
    {
     "data": {
      "text/plain": [
       "'\\n    zheshidiyihang\\n    zhishiwend\\n    '"
      ]
     },
     "execution_count": 35,
     "metadata": {},
     "output_type": "execute_result"
    }
   ],
   "source": [
    "help(stu)\n",
    "stu.__doc__"
   ]
  }
 ],
 "metadata": {
  "kernelspec": {
   "display_name": "Python 3",
   "language": "python",
   "name": "python3"
  },
  "language_info": {
   "codemirror_mode": {
    "name": "ipython",
    "version": 3
   },
   "file_extension": ".py",
   "mimetype": "text/x-python",
   "name": "python",
   "nbconvert_exporter": "python",
   "pygments_lexer": "ipython3",
   "version": "3.7.0"
  }
 },
 "nbformat": 4,
 "nbformat_minor": 2
}
