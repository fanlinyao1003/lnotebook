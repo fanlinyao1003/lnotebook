{
 "cells": [
  {
   "cell_type": "code",
   "execution_count": 6,
   "metadata": {
    "scrolled": true
   },
   "outputs": [
    {
     "name": "stdout",
     "output_type": "stream",
     "text": [
      "feifei\n"
     ]
    }
   ],
   "source": [
    "class A():\n",
    "    name = \"feifei\"\n",
    "    age = 18\n",
    "A.__dict__\n",
    "\n",
    "a = A()\n",
    "\n",
    "a.__dict__\n",
    "print(a.name)"
   ]
  },
  {
   "cell_type": "code",
   "execution_count": 7,
   "metadata": {},
   "outputs": [
    {
     "name": "stdout",
     "output_type": "stream",
     "text": [
      "feifei\n",
      "18\n",
      "**********\n",
      "86488376\n",
      "8791525224736\n",
      "**********\n",
      "feifei\n",
      "18\n",
      "86488376\n",
      "8791525224736\n"
     ]
    }
   ],
   "source": [
    "#此案例说明,类实例的属性和对象实例的属性在不对对象赋值的前提下,指向同一个变量\n",
    "class A():\n",
    "    name = \"feifei\"\n",
    "    age = 18\n",
    "    \n",
    "    def say(self):\n",
    "        self.name = \"feifei\"\n",
    "        self.age = 12\n",
    "# 此时A称为类实例\n",
    "print(A.name)\n",
    "print(A.age)\n",
    "\n",
    "print(\"*\"*10)\n",
    "# id可以鉴别一个变量跟另一个变量是否是同一个变量\n",
    "print(id(A.name))\n",
    "print(id(A.age))\n",
    "\n",
    "print(\"*\"*10)\n",
    "# 实例化一个对象\n",
    "a = A()\n",
    "print(a.name)\n",
    "print(a.age)\n",
    "print(id(a.name))\n",
    "print(id(a.age))\n",
    "# 两个ID是一样的,"
   ]
  },
  {
   "cell_type": "code",
   "execution_count": 11,
   "metadata": {},
   "outputs": [
    {
     "name": "stdout",
     "output_type": "stream",
     "text": [
      "{'__module__': '__main__', 'name': 'feifei', 'age': 18, 'say': <function A.say at 0x0000000004D91A60>, '__dict__': <attribute '__dict__' of 'A' objects>, '__weakref__': <attribute '__weakref__' of 'A' objects>, '__doc__': None}\n",
      "{}\n",
      "**********\n",
      "**********\n",
      "{'name': 'ff', 'age': 13}\n",
      "**********\n",
      "ff\n",
      "13\n",
      "63783016\n",
      "8791525224576\n"
     ]
    }
   ],
   "source": [
    "# 此案例说明.如果给对象赋值后,对象的属性重新开辟一个存储单元储存属性\n",
    "a = A()\n",
    "print(A.__dict__)\n",
    "print(a.__dict__)\n",
    "print(\"*\"*10)\n",
    "a.name = \"ff\"\n",
    "a.age = 13\n",
    "print(\"*\"*10)\n",
    "print(a.__dict__)\n",
    "print(\"*\"*10)\n",
    "print(a.name)\n",
    "print(a.age)\n",
    "print(id(a.name))\n",
    "print(id(a.age))"
   ]
  },
  {
   "cell_type": "code",
   "execution_count": 19,
   "metadata": {},
   "outputs": [
    {
     "name": "stdout",
     "output_type": "stream",
     "text": [
      "My name is feifei.My age is 12\n"
     ]
    }
   ],
   "source": [
    "class A():\n",
    "    name = \"feifei\"\n",
    "    age = 18\n",
    "    \n",
    "    def say(self):\n",
    "        self.name = \"feifei\"\n",
    "        self.age = 12\n",
    "        print(\"My name is {0}.My age is {1}\".format(self.name,self.age))\n",
    "        \n",
    "ff = A()\n",
    "ff.say()"
   ]
  },
  {
   "cell_type": "code",
   "execution_count": 31,
   "metadata": {},
   "outputs": [
    {
     "name": "stdout",
     "output_type": "stream",
     "text": [
      "My name is feifei,My age is 10\n",
      "ff 20\n",
      "hello\n"
     ]
    }
   ],
   "source": [
    "class Teacher():\n",
    "    name = \"ff\"\n",
    "    age = 20\n",
    "    \n",
    "    def say(self):\n",
    "        self.name = \"feifei\"\n",
    "        self.age = 10\n",
    "        print(\"My name is {0},My age is {1}\".format(self.name,self.age))\n",
    "    def sayAgain():\n",
    "        # 调用类的成员变量需要使用__class__来访问\n",
    "        print(__class__.name,__class__.age)\n",
    "        print(\"hello\")\n",
    "\n",
    "t = Teacher()\n",
    "t.say()\n",
    "#t.sayAgain()\n",
    "Teacher.sayAgain()"
   ]
  },
  {
   "cell_type": "code",
   "execution_count": 38,
   "metadata": {},
   "outputs": [
    {
     "name": "stdout",
     "output_type": "stream",
     "text": [
      "ff\n",
      "100\n",
      "ff\n",
      "100\n",
      "feifei\n",
      "18\n",
      "ss\n",
      "99\n"
     ]
    }
   ],
   "source": [
    "class A():\n",
    "    name = \"feifei\"\n",
    "    age = 18\n",
    "    \n",
    "    def __init__(self):\n",
    "        self.name = \"ff\"\n",
    "        self.age = 100\n",
    "    def say(self):\n",
    "        print(self.name)\n",
    "        print(self.age)\n",
    "class B():\n",
    "    name = \"ss\"\n",
    "    age = 99\n",
    "    male = \"男\"\n",
    "a = A()\n",
    "\n",
    "#此时,系统会默认把a作为第一个参数传入函数\n",
    "a.say()\n",
    "\n",
    "# 此时,self被a替换\n",
    "A.say(a)\n",
    "\n",
    "# 可以吧A作为参数传入\n",
    "A.say(A)\n",
    "\n",
    "# 此时,是吧B作为参数传入,B作为类实例,应为B具有name和age属性,所以可以运行\n",
    "A.say(B)\n",
    "\n",
    "# 以上代码利用了鸭子模型,"
   ]
  },
  {
   "cell_type": "code",
   "execution_count": 51,
   "metadata": {},
   "outputs": [
    {
     "name": "stdout",
     "output_type": "stream",
     "text": [
      "ff\n",
      "18\n"
     ]
    }
   ],
   "source": [
    "class Person():\n",
    "    # name是公有成员\n",
    "    name = \"ff\"\n",
    "    # __age就是私有成员\n",
    "    __age = 18\n",
    "    \n",
    "p1 = Person()\n",
    "# name 是公有变量\n",
    "print(p1.name)\n",
    "# __age是私有变量\n",
    "# 需要使用_classname__attributename来访问\n",
    "print(p1._Person__age)"
   ]
  },
  {
   "cell_type": "code",
   "execution_count": 49,
   "metadata": {},
   "outputs": [
    {
     "name": "stdout",
     "output_type": "stream",
     "text": [
      "{'__module__': '__main__', 'name': 'ff', '_Person__age': 18, '__dict__': <attribute '__dict__' of 'Person' objects>, '__weakref__': <attribute '__weakref__' of 'Person' objects>, '__doc__': None}\n",
      "************\n",
      "19\n"
     ]
    }
   ],
   "source": [
    "# name mangling技术\n",
    "print(Person.__dict__)\n",
    "print(\"*\"*12)\n",
    "p1._Person__age = 19\n",
    "print(p1._Person__age)"
   ]
  }
 ],
 "metadata": {
  "kernelspec": {
   "display_name": "Python 3",
   "language": "python",
   "name": "python3"
  },
  "language_info": {
   "codemirror_mode": {
    "name": "ipython",
    "version": 3
   },
   "file_extension": ".py",
   "mimetype": "text/x-python",
   "name": "python",
   "nbconvert_exporter": "python",
   "pygments_lexer": "ipython3",
   "version": "3.7.0"
  }
 },
 "nbformat": 4,
 "nbformat_minor": 2
}
