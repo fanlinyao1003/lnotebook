{
 "cells": [
  {
   "cell_type": "code",
   "execution_count": 7,
   "metadata": {},
   "outputs": [
    {
     "name": "stdout",
     "output_type": "stream",
     "text": [
      "输入成绩：9\n",
      "滚犊子\n"
     ]
    }
   ],
   "source": [
    "# 成绩分类实例\n",
    "# score>=90:A \n",
    "# 90>score>=80:B\n",
    "# 80>score>=70:C \n",
    "# 70>score>=60:D \n",
    "# score<60:滚犊子\n",
    "score = input(\"输入成绩：\")\n",
    "score = int(score)\n",
    "if score>=90:\n",
    "    print(\"A\")\n",
    "elif score>=80:\n",
    "    print(\"B\")\n",
    "elif score>=70:\n",
    "    print(\"C\")\n",
    "elif score>=60:\n",
    "    print(\"D\")\n",
    "else:\n",
    "    print(\"滚犊子\")"
   ]
  },
  {
   "cell_type": "code",
   "execution_count": 12,
   "metadata": {},
   "outputs": [
    {
     "name": "stdout",
     "output_type": "stream",
     "text": [
      "zhangsan\n",
      "聪明\n",
      "lisi\n",
      "聪明\n",
      "wangwu\n",
      "wangwu你是一个撒子\n"
     ]
    }
   ],
   "source": [
    "#打印学生姓名\n",
    "#如果是wangwu，傻逼\n",
    "#若果不是，聪明\n",
    "for name in [\"zhangsan\",\"lisi\",\"wangwu\"]:\n",
    "    print(name)\n",
    "    if name == \"wangwu\":\n",
    "        print(\"{0}你是一个撒子\".format(name))\n",
    "    else:\n",
    "        print(\"聪明\")"
   ]
  },
  {
   "cell_type": "code",
   "execution_count": 16,
   "metadata": {},
   "outputs": [
    {
     "name": "stdout",
     "output_type": "stream",
     "text": [
      "1\n",
      "2\n",
      "3\n",
      "4\n",
      "5\n",
      "6\n",
      "7\n",
      "8\n",
      "9\n",
      "1\n",
      "2\n",
      "3\n",
      "4\n",
      "5\n",
      "6\n",
      "7\n",
      "8\n",
      "9\n",
      "10\n"
     ]
    }
   ],
   "source": [
    "# range联系\n",
    "# 打印从1-10\n",
    "# 一般在Python中，如果表示的数字的范围的两个数，一般是包含左边的数，不包含右边的数\n",
    "# randint是个特例，左右都包含\n",
    "for i in range(1,10):\n",
    "    print(i)\n",
    "for i in range(1,11):\n",
    "    print(i)"
   ]
  },
  {
   "cell_type": "code",
   "execution_count": 19,
   "metadata": {},
   "outputs": [
    {
     "name": "stdout",
     "output_type": "stream",
     "text": [
      "zhangsan\n",
      "聪明\n",
      "lisi\n",
      "lisi你是一个撒子\n",
      "wangwu\n",
      "聪明\n",
      "逃课\n"
     ]
    }
   ],
   "source": [
    "# for-else语句\n",
    "# 打印列表中符同学\n",
    "# 如果没有在列表中，终止，打印逃课\n",
    "for name in [\"zhangsan\",\"lisi\",\"wangwu\"]:\n",
    "    print(name)\n",
    "    if name == \"lisi\":\n",
    "        print(\"{0}你是一个撒子\".format(name))\n",
    "    else:\n",
    "        print(\"聪明\")\n",
    "else:\n",
    "    print(\"逃课\")"
   ]
  },
  {
   "cell_type": "code",
   "execution_count": 22,
   "metadata": {},
   "outputs": [
    {
     "name": "stdout",
     "output_type": "stream",
     "text": [
      "1\n",
      "2\n",
      "3\n",
      "4\n",
      "5\n",
      "6\n",
      "7\n",
      "wo zhao dao l\n"
     ]
    }
   ],
   "source": [
    "# 在1-10 的数字中，寻找数字8，一旦找到，打印出来，其余则什么都不做\n",
    "# for循环中的变量表示，一般用：i，k，m，n，或者indx，idx，item之类\n",
    "# 在Python中，如果循环变量名称不重要，可以用下划线代替\n",
    "for i in range(1,11):\n",
    "    if i==8:\n",
    "        print(\"wo zhao dao l\")\n",
    "        break\n",
    "    else:\n",
    "        print(i)\n",
    "    "
   ]
  },
  {
   "cell_type": "code",
   "execution_count": 23,
   "metadata": {},
   "outputs": [
    {
     "name": "stdout",
     "output_type": "stream",
     "text": [
      "2是偶数\n",
      "4是偶数\n",
      "6是偶数\n",
      "8是偶数\n",
      "10是偶数\n"
     ]
    }
   ],
   "source": [
    "# 在1-10 的数字中，寻找数字偶数，找到偶数打印出来，\n",
    "# for循环中的变量表示，一般用：i，k，m，n，或者indx，idx，item之类\n",
    "# 在Python中，如果循环变量名称不重要，可以用下划线代替\n",
    "for i in range(1,11):\n",
    "    if i % 2 == 1:\n",
    "        continue\n",
    "    else:\n",
    "        print(\"{0}是偶数\".format(i))"
   ]
  },
  {
   "cell_type": "code",
   "execution_count": 24,
   "metadata": {},
   "outputs": [
    {
     "name": "stdout",
     "output_type": "stream",
     "text": [
      "2是偶数\n",
      "4是偶数\n",
      "6是偶数\n",
      "8是偶数\n",
      "10是偶数\n"
     ]
    }
   ],
   "source": [
    "# 在1-10 的数字中，寻找数字偶数，找到偶数打印出来，\n",
    "# for循环中的变量表示，一般用：i，k，m，n，或者indx，idx，item之类\n",
    "# 在Python中，如果循环变量名称不重要，可以用下划线代替\n",
    "for i in range(1,11):\n",
    "    if i % 2 == 0:\n",
    "\n",
    "        print(\"{0}是偶数\".format(i))"
   ]
  },
  {
   "cell_type": "code",
   "execution_count": 25,
   "metadata": {},
   "outputs": [
    {
     "name": "stdout",
     "output_type": "stream",
     "text": [
      "2是偶数\n",
      "4是偶数\n",
      "6是偶数\n",
      "8是偶数\n",
      "10是偶数\n"
     ]
    }
   ],
   "source": [
    "# 在1-10 的数字中，寻找数字偶数，找到偶数打印出来，\n",
    "# for循环中的变量表示，一般用：i，k，m，n，或者indx，idx，item之类\n",
    "# 在Python中，如果循环变量名称不重要，可以用下划线代替\n",
    "for i in range(1,11):\n",
    "    if i % 2 == 1:\n",
    "        continue\n",
    "        \n",
    "    print(\"{0}是偶数\".format(i))"
   ]
  },
  {
   "cell_type": "code",
   "execution_count": 28,
   "metadata": {},
   "outputs": [
    {
     "name": "stdout",
     "output_type": "stream",
     "text": [
      "我只是占位置的\n",
      "我只是占位置的\n",
      "我只是占位置的\n",
      "我只是占位置的\n",
      "我只是占位置的\n",
      "我只是占位置的\n",
      "我只是占位置的\n",
      "我只是占位置的\n",
      "我只是占位置的\n",
      "我只是占位置的\n"
     ]
    }
   ],
   "source": [
    "# pass例子 一般用于占位\n",
    "# pass没有跳过功能\n",
    "\n",
    "for i in range(1,11):\n",
    "    \n",
    "    pass\n",
    "    print(\"我只是占位置的\")"
   ]
  },
  {
   "cell_type": "code",
   "execution_count": 1,
   "metadata": {},
   "outputs": [
    {
     "data": {
      "text/plain": [
       "3000"
      ]
     },
     "execution_count": 1,
     "metadata": {},
     "output_type": "execute_result"
    }
   ],
   "source": [
    "import sys\n",
    "sys.getrecursionlimit()  # output:1000"
   ]
  },
  {
   "cell_type": "code",
   "execution_count": 3,
   "metadata": {},
   "outputs": [
    {
     "name": "stdout",
     "output_type": "stream",
     "text": [
      "4\n"
     ]
    }
   ],
   "source": [
    "# n表示第n个数字的斐波那契数列的值\n",
    "def fib(n):\n",
    "    if n == 1:\n",
    "        return 1\n",
    "    \n",
    "    if n == 2:\n",
    "        return 1\n",
    "    # 思考:为什么后面return能够正确执行,二不用else语句\n",
    "    return fib(n-1)+(n-2)\n",
    "\n",
    "print(fib(4))"
   ]
  }
 ],
 "metadata": {
  "kernelspec": {
   "display_name": "Python 3",
   "language": "python",
   "name": "python3"
  },
  "language_info": {
   "codemirror_mode": {
    "name": "ipython",
    "version": 3
   },
   "file_extension": ".py",
   "mimetype": "text/x-python",
   "name": "python",
   "nbconvert_exporter": "python",
   "pygments_lexer": "ipython3",
   "version": "3.7.0"
  }
 },
 "nbformat": 4,
 "nbformat_minor": 2
}
